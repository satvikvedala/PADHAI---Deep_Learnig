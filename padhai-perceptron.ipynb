{
 "cells": [
  {
   "cell_type": "code",
   "execution_count": 1,
   "id": "general-doctrine",
   "metadata": {
    "execution": {
     "iopub.execute_input": "2021-05-11T09:09:55.839278Z",
     "iopub.status.busy": "2021-05-11T09:09:55.838024Z",
     "iopub.status.idle": "2021-05-11T09:09:57.006042Z",
     "shell.execute_reply": "2021-05-11T09:09:57.005230Z"
    },
    "papermill": {
     "duration": 1.204271,
     "end_time": "2021-05-11T09:09:57.006267",
     "exception": false,
     "start_time": "2021-05-11T09:09:55.801996",
     "status": "completed"
    },
    "tags": []
   },
   "outputs": [],
   "source": [
    "import numpy as np\n",
    "import pandas as pd\n",
    "import matplotlib.pyplot as plt\n",
    "from sklearn.preprocessing import LabelEncoder,MinMaxScaler, StandardScaler\n",
    "from sklearn.model_selection import train_test_split, ParameterGrid\n",
    "from sklearn.metrics import accuracy_score, confusion_matrix, mean_squared_error, log_loss\n",
    "import operator\n",
    "import json\n",
    "from IPython import display\n",
    "import os\n",
    "import warnings\n",
    "\n",
    "np.random.seed(0)\n",
    "warnings.filterwarnings(\"ignore\")\n",
    "THRESHOLD = 4"
   ]
  },
  {
   "cell_type": "markdown",
   "id": "protective-dakota",
   "metadata": {
    "papermill": {
     "duration": 0.028234,
     "end_time": "2021-05-11T09:09:57.064098",
     "exception": false,
     "start_time": "2021-05-11T09:09:57.035864",
     "status": "completed"
    },
    "tags": []
   },
   "source": [
    "Task: To predict whether the user likes the mobile phone or not. <br>\n",
    "Assumption: If the average rating of mobile >= threshold, then the user likes it, otherwise not."
   ]
  },
  {
   "cell_type": "markdown",
   "id": "fourth-metadata",
   "metadata": {
    "papermill": {
     "duration": 0.028672,
     "end_time": "2021-05-11T09:09:57.122070",
     "exception": false,
     "start_time": "2021-05-11T09:09:57.093398",
     "status": "completed"
    },
    "tags": []
   },
   "source": [
    "<b>Missing values:</b><br>\n",
    "'Also Known As'(459),'Applications'(421),'Audio Features'(437),'Bezel-less display'(266),'Browser'(449),'Build Material'(338),'Co-Processor'(451),'Display Colour'(457),'Mobile High-Definition Link(MHL)'(472),'Music'(447)\n",
    "'Email','Fingerprint Sensor Position'(174),'Games'(446),'HDMI'(454),'Heart Rate Monitor'(467),'IRIS Scanner'(467),\n",
    "'Optical Image Stabilisation'(219),'Other Facilities'(444),'Phone Book'(444),'Physical Aperture'(87),'Quick Charging'(122),'Ring Tone'(444),'Ruggedness'(430),SAR Value(315),'SIM 3'(472),'SMS'(470)', 'Screen Protection'(229),'Screen to Body Ratio (claimed by the brand)'(428),'Sensor'(242),'Software Based Aperture'(473),\n",
    "'Special Features'(459),'Standby time'(334),'Stylus'(473),'TalkTime'(259), 'USB Type-C'(374),'Video Player'(456),\n",
    "'Video Recording Features'(458),'Waterproof'(398),'Wireless Charging','USB OTG Support'(159), 'Video ,'Recording'(113),'Java'(471),'Browser'(448)\n",
    "\n",
    "<b>Very low variance:</b><br>\n",
    "'Architecture'(most entries are 64-bit),'Audio Jack','GPS','Loudspeaker','Network','Network Support','Other Sensors'(28),'SIM Size', 'VoLTE'\n",
    "\n",
    "\n",
    "<b>Multivalued:</b><br>\n",
    "'Colours','Custom UI','Model'(1),'Other Sensors','Launch Date'\n",
    "\n",
    "<b>Not important:</b><br>\n",
    "'Bluetooth', 'Settings'(75),'Wi-Fi','Wi-Fi Features'\n",
    "\n",
    "<b>Doubtful:</b><br>\n",
    "'Aspect Ratio','Autofocus','Brand','Camera Features','Fingerprint Sensor'(very few entries are missing),\n",
    "'Fingerprint Sensor Position', 'Graphics'(multivalued),'Image resolution'(multivalued),'SIM Size','Sim Slot(s)', 'User Available Storage', 'SIM 1', 'SIM 2','Shooting Modes', 'Touch Screen'(24), 'USB Connectivity'\n",
    "    \n",
    "<b>To check:</b><br>\n",
    "'Display Type','Expandable Memory','FM Radio'\n",
    "\n",
    "<b>High Correlation with other features</b><br>\n",
    "'SIM Slot(s)' high correlation with SIM1\n",
    "'Weight' has high high correlation with capacity , screen-to-body ratio\n",
    "'Height' - screen size is also there\n",
    "    \n",
    "<b>Given a mobile, we can't directly get these features</b><br>\n",
    "'Rating Count', 'Review Count'\n",
    "\n",
    "<b>Keeping:</b><br>\n",
    "'Capacity','Flash'(17),'Height'(22),'Internal Memory'(20, require cleaning),'Operating System'(25, require cleaning), 'Pixel Density'(1, clean it),'Processor'(22, clean it), 'RAM'(17, clean), 'Rating','Resolution'(cleaning), 'Screen Resolution','Screen Size', 'Thickness'(22), 'Type','User Replaceable','Weight'(cleaning),'Sim Size'(), 'Other Sensors'(28), 'Screen to Body Ratio (calculated)','Width',\n"
   ]
  },
  {
   "cell_type": "code",
   "execution_count": 2,
   "id": "electrical-forty",
   "metadata": {
    "execution": {
     "iopub.execute_input": "2021-05-11T09:09:57.188640Z",
     "iopub.status.busy": "2021-05-11T09:09:57.187888Z",
     "iopub.status.idle": "2021-05-11T09:09:57.304215Z",
     "shell.execute_reply": "2021-05-11T09:09:57.303403Z"
    },
    "papermill": {
     "duration": 0.15401,
     "end_time": "2021-05-11T09:09:57.304434",
     "exception": false,
     "start_time": "2021-05-11T09:09:57.150424",
     "status": "completed"
    },
    "tags": []
   },
   "outputs": [
    {
     "name": "stdout",
     "output_type": "stream",
     "text": [
      "Number of data points in train: 355\n",
      "Number of features in train: 99\n",
      "Number of data points in test: 119\n",
      "Number of features in test: 98\n"
     ]
    }
   ],
   "source": [
    "# read data from file\n",
    "train = pd.read_csv(\"../input/padhai-perceptron-like-unlike-classification/train.csv\") \n",
    "test = pd.read_csv(\"../input/padhai-perceptron-like-unlike-classification/test.csv\")\n",
    "\n",
    "# check the number of features and data points in train\n",
    "print(\"Number of data points in train: %d\" % train.shape[0])\n",
    "print(\"Number of features in train: %d\" % train.shape[1])\n",
    "\n",
    "# check the number of features and data points in test\n",
    "print(\"Number of data points in test: %d\" % test.shape[0])\n",
    "print(\"Number of features in test: %d\" % test.shape[1])"
   ]
  },
  {
   "cell_type": "code",
   "execution_count": 3,
   "id": "expanded-librarian",
   "metadata": {
    "execution": {
     "iopub.execute_input": "2021-05-11T09:09:57.383938Z",
     "iopub.status.busy": "2021-05-11T09:09:57.382445Z",
     "iopub.status.idle": "2021-05-11T09:09:57.388351Z",
     "shell.execute_reply": "2021-05-11T09:09:57.387383Z"
    },
    "papermill": {
     "duration": 0.051441,
     "end_time": "2021-05-11T09:09:57.388593",
     "exception": false,
     "start_time": "2021-05-11T09:09:57.337152",
     "status": "completed"
    },
    "tags": []
   },
   "outputs": [],
   "source": [
    "def data_clean(data):\n",
    "    \n",
    "    # Let's first remove all missing value features\n",
    "    columns_to_remove = ['Also Known As','Applications','Audio Features','Bezel-less display'\n",
    "                         'Browser','Build Material','Co-Processor','Browser'\n",
    "                         'Display Colour','Mobile High-Definition Link(MHL)',\n",
    "                         'Music', 'Email','Fingerprint Sensor Position',\n",
    "                         'Games','HDMI','Heart Rate Monitor','IRIS Scanner', \n",
    "                         'Optical Image Stabilisation','Other Facilities',\n",
    "                         'Phone Book','Physical Aperture','Quick Charging',\n",
    "                         'Ring Tone','Ruggedness','SAR Value','SIM 3','SMS',\n",
    "                         'Screen Protection','Screen to Body Ratio (claimed by the brand)',\n",
    "                         'Sensor','Software Based Aperture', 'Special Features',\n",
    "                         'Standby time','Stylus','TalkTime', 'USB Type-C',\n",
    "                         'Video Player', 'Video Recording Features','Waterproof',\n",
    "                         'Wireless Charging','USB OTG Support', 'Video Recording','Java']\n",
    "\n",
    "    columns_to_retain = list(set(data.columns)-set(columns_to_remove))\n",
    "    data = data[columns_to_retain]\n",
    "\n",
    "    #Features having very low variance \n",
    "    columns_to_remove = ['Architecture','Audio Jack','GPS','Loudspeaker','Network','Network Support','VoLTE']\n",
    "    columns_to_retain = list(set(data.columns)-set(columns_to_remove))\n",
    "    data = data[columns_to_retain]\n",
    "\n",
    "    # Multivalued:\n",
    "    columns_to_remove = ['Architecture','Launch Date','Audio Jack','GPS','Loudspeaker','Network','Network Support','VoLTE', 'Custom UI']\n",
    "    columns_to_retain = list(set(data.columns)-set(columns_to_remove))\n",
    "    data = data[columns_to_retain]\n",
    "\n",
    "    # Not much important\n",
    "    columns_to_remove = ['Bluetooth', 'Settings','Wi-Fi','Wi-Fi Features']\n",
    "    columns_to_retain = list(set(data.columns)-set(columns_to_remove))\n",
    "    data = data[columns_to_retain]\n",
    "    \n",
    "    return data"
   ]
  },
  {
   "cell_type": "markdown",
   "id": "spare-warrant",
   "metadata": {
    "papermill": {
     "duration": 0.03707,
     "end_time": "2021-05-11T09:09:57.467882",
     "exception": false,
     "start_time": "2021-05-11T09:09:57.430812",
     "status": "completed"
    },
    "tags": []
   },
   "source": [
    "# Removing features"
   ]
  },
  {
   "cell_type": "code",
   "execution_count": 4,
   "id": "asian-bishop",
   "metadata": {
    "execution": {
     "iopub.execute_input": "2021-05-11T09:09:57.562805Z",
     "iopub.status.busy": "2021-05-11T09:09:57.561972Z",
     "iopub.status.idle": "2021-05-11T09:09:57.575977Z",
     "shell.execute_reply": "2021-05-11T09:09:57.574942Z"
    },
    "papermill": {
     "duration": 0.075275,
     "end_time": "2021-05-11T09:09:57.576242",
     "exception": false,
     "start_time": "2021-05-11T09:09:57.500967",
     "status": "completed"
    },
    "tags": []
   },
   "outputs": [],
   "source": [
    "train = data_clean(train)\n",
    "test = data_clean(test)"
   ]
  },
  {
   "cell_type": "markdown",
   "id": "innocent-connecticut",
   "metadata": {
    "papermill": {
     "duration": 0.03039,
     "end_time": "2021-05-11T09:09:57.642170",
     "exception": false,
     "start_time": "2021-05-11T09:09:57.611780",
     "status": "completed"
    },
    "tags": []
   },
   "source": [
    "removing all those data points in which more than 15 features are missing "
   ]
  },
  {
   "cell_type": "code",
   "execution_count": 5,
   "id": "insured-semester",
   "metadata": {
    "execution": {
     "iopub.execute_input": "2021-05-11T09:09:57.726279Z",
     "iopub.status.busy": "2021-05-11T09:09:57.725544Z",
     "iopub.status.idle": "2021-05-11T09:09:57.753839Z",
     "shell.execute_reply": "2021-05-11T09:09:57.753181Z"
    },
    "papermill": {
     "duration": 0.074769,
     "end_time": "2021-05-11T09:09:57.754004",
     "exception": false,
     "start_time": "2021-05-11T09:09:57.679235",
     "status": "completed"
    },
    "tags": []
   },
   "outputs": [],
   "source": [
    "train = train[(train.isnull().sum(axis=1) <= 15)]\n",
    "# You shouldn't remove data points from test set\n",
    "#test = test[(test.isnull().sum(axis=1) <= 15)]"
   ]
  },
  {
   "cell_type": "code",
   "execution_count": 6,
   "id": "inner-nicholas",
   "metadata": {
    "execution": {
     "iopub.execute_input": "2021-05-11T09:09:57.821665Z",
     "iopub.status.busy": "2021-05-11T09:09:57.820917Z",
     "iopub.status.idle": "2021-05-11T09:09:57.827488Z",
     "shell.execute_reply": "2021-05-11T09:09:57.828460Z"
    },
    "papermill": {
     "duration": 0.044734,
     "end_time": "2021-05-11T09:09:57.828764",
     "exception": false,
     "start_time": "2021-05-11T09:09:57.784030",
     "status": "completed"
    },
    "tags": []
   },
   "outputs": [
    {
     "name": "stdout",
     "output_type": "stream",
     "text": [
      "Number of data points in train: 341\n",
      "Number of features in train: 47\n",
      "Number of data points in test: 119\n",
      "Number of features in test: 46\n"
     ]
    }
   ],
   "source": [
    "# check the number of features and data points in train\n",
    "print(\"Number of data points in train: %d\" % train.shape[0])\n",
    "print(\"Number of features in train: %d\" % train.shape[1])\n",
    "\n",
    "# check the number of features and data points in test\n",
    "print(\"Number of data points in test: %d\" % test.shape[0])\n",
    "print(\"Number of features in test: %d\" % test.shape[1])"
   ]
  },
  {
   "cell_type": "markdown",
   "id": "improved-equilibrium",
   "metadata": {
    "papermill": {
     "duration": 0.031279,
     "end_time": "2021-05-11T09:09:57.895462",
     "exception": false,
     "start_time": "2021-05-11T09:09:57.864183",
     "status": "completed"
    },
    "tags": []
   },
   "source": [
    "# Filling Missing values"
   ]
  },
  {
   "cell_type": "code",
   "execution_count": 7,
   "id": "congressional-arabic",
   "metadata": {
    "execution": {
     "iopub.execute_input": "2021-05-11T09:09:57.972296Z",
     "iopub.status.busy": "2021-05-11T09:09:57.967201Z",
     "iopub.status.idle": "2021-05-11T09:09:57.978466Z",
     "shell.execute_reply": "2021-05-11T09:09:57.977891Z"
    },
    "papermill": {
     "duration": 0.052229,
     "end_time": "2021-05-11T09:09:57.978657",
     "exception": false,
     "start_time": "2021-05-11T09:09:57.926428",
     "status": "completed"
    },
    "tags": []
   },
   "outputs": [],
   "source": [
    "def for_integer(test):\n",
    "    try:\n",
    "        test = test.strip()\n",
    "        return int(test.split(' ')[0])\n",
    "    except IOError:\n",
    "           pass\n",
    "    except ValueError:\n",
    "        pass\n",
    "    except:\n",
    "        pass\n",
    "\n",
    "def for_string(test):\n",
    "    try:\n",
    "        test = test.strip()\n",
    "        return (test.split(' ')[0])\n",
    "    except IOError:\n",
    "        pass\n",
    "    except ValueError:\n",
    "        pass\n",
    "    except:\n",
    "        pass\n",
    "\n",
    "def for_float(test):\n",
    "    try:\n",
    "        test = test.strip()\n",
    "        return float(test.split(' ')[0])\n",
    "    except IOError:\n",
    "        pass\n",
    "    except ValueError:\n",
    "        pass\n",
    "    except:\n",
    "        pass\n",
    "def find_freq(test):\n",
    "    try:\n",
    "        test = test.strip()\n",
    "        test = test.split(' ')\n",
    "        if test[2][0] == '(':\n",
    "            return float(test[2][1:])\n",
    "        return float(test[2])\n",
    "    except IOError:\n",
    "        pass\n",
    "    except ValueError:\n",
    "        pass\n",
    "    except:\n",
    "        pass\n",
    "\n",
    "    \n",
    "def for_Internal_Memory(test):\n",
    "    try:\n",
    "        test = test.strip()\n",
    "        test = test.split(' ')\n",
    "        if test[1] == 'GB':\n",
    "            return int(test[0])\n",
    "        if test[1] == 'MB':\n",
    "#             print(\"here\")\n",
    "            return (int(test[0]) * 0.001)\n",
    "    except IOError:\n",
    "           pass\n",
    "    except ValueError:\n",
    "        pass\n",
    "    except:\n",
    "        pass\n",
    "    \n",
    "def find_freq(test):\n",
    "    try:\n",
    "        test = test.strip()\n",
    "        test = test.split(' ')\n",
    "        if test[2][0] == '(':\n",
    "            return float(test[2][1:])\n",
    "        return float(test[2])\n",
    "    except IOError:\n",
    "        pass\n",
    "    except ValueError:\n",
    "        pass\n",
    "    except:\n",
    "        pass\n"
   ]
  },
  {
   "cell_type": "code",
   "execution_count": 8,
   "id": "informal-johnston",
   "metadata": {
    "execution": {
     "iopub.execute_input": "2021-05-11T09:09:58.069848Z",
     "iopub.status.busy": "2021-05-11T09:09:58.068681Z",
     "iopub.status.idle": "2021-05-11T09:09:58.071305Z",
     "shell.execute_reply": "2021-05-11T09:09:58.071865Z"
    },
    "papermill": {
     "duration": 0.059611,
     "end_time": "2021-05-11T09:09:58.072081",
     "exception": false,
     "start_time": "2021-05-11T09:09:58.012470",
     "status": "completed"
    },
    "tags": []
   },
   "outputs": [],
   "source": [
    "def data_clean_2(x):\n",
    "    data = x.copy()\n",
    "    \n",
    "    data['Capacity'] = data['Capacity'].apply(for_integer)\n",
    "\n",
    "    data['Height'] = data['Height'].apply(for_float)\n",
    "    data['Height'] = data['Height'].fillna(data['Height'].mean())\n",
    "\n",
    "    data['Internal Memory'] = data['Internal Memory'].apply(for_Internal_Memory)\n",
    "\n",
    "    data['Pixel Density'] = data['Pixel Density'].apply(for_integer)\n",
    "\n",
    "    data['Internal Memory'] = data['Internal Memory'].fillna(data['Internal Memory'].median())\n",
    "    data['Internal Memory'] = data['Internal Memory'].astype(int)\n",
    "\n",
    "    data['RAM'] = data['RAM'].apply(for_integer)\n",
    "    data['RAM'] = data['RAM'].fillna(data['RAM'].median())\n",
    "    data['RAM'] = data['RAM'].astype(int)\n",
    "\n",
    "    data['Resolution'] = data['Resolution'].apply(for_integer)\n",
    "    data['Resolution'] = data['Resolution'].fillna(data['Resolution'].median())\n",
    "    data['Resolution'] = data['Resolution'].astype(int)\n",
    "\n",
    "    data['Screen Size'] = data['Screen Size'].apply(for_float)\n",
    "\n",
    "    data['Thickness'] = data['Thickness'].apply(for_float)\n",
    "    data['Thickness'] = data['Thickness'].fillna(data['Thickness'].mean())\n",
    "    data['Thickness'] = data['Thickness'].round(2)\n",
    "\n",
    "    data['Type'] = data['Type'].fillna('Li-Polymer')\n",
    "\n",
    "    data['Screen to Body Ratio (calculated)'] = data['Screen to Body Ratio (calculated)'].apply(for_float)\n",
    "    data['Screen to Body Ratio (calculated)'] = data['Screen to Body Ratio (calculated)'].fillna(data['Screen to Body Ratio (calculated)'].mean())\n",
    "    data['Screen to Body Ratio (calculated)'] = data['Screen to Body Ratio (calculated)'].round(2)\n",
    "\n",
    "    data['Width'] = data['Width'].apply(for_float)\n",
    "    data['Width'] = data['Width'].fillna(data['Width'].mean())\n",
    "    data['Width'] = data['Width'].round(2)\n",
    "\n",
    "    data['Flash'][data['Flash'].isna() == True] = \"Other\"\n",
    "\n",
    "    data['User Replaceable'][data['User Replaceable'].isna() == True] = \"Other\"\n",
    "\n",
    "    data['Num_cores'] = data['Processor'].apply(for_string)\n",
    "    data['Num_cores'][data['Num_cores'].isna() == True] = \"Other\"\n",
    "\n",
    "\n",
    "    data['Processor_frequency'] = data['Processor'].apply(find_freq)\n",
    "    #because there is one entry with 208MHz values, to convert it to GHz\n",
    "    data['Processor_frequency'][data['Processor_frequency'] > 200] = 0.208\n",
    "    data['Processor_frequency'] = data['Processor_frequency'].fillna(data['Processor_frequency'].mean())\n",
    "    data['Processor_frequency'] = data['Processor_frequency'].round(2)\n",
    "\n",
    "    data['Camera Features'][data['Camera Features'].isna() == True] = \"Other\"\n",
    "\n",
    "    #simplifyig Operating System to os_name for simplicity\n",
    "    data['os_name'] = data['Operating System'].apply(for_string)\n",
    "    data['os_name'][data['os_name'].isna() == True] = \"Other\"\n",
    "\n",
    "    data['Sim1'] = data['SIM 1'].apply(for_string)\n",
    "\n",
    "    data['SIM Size'][data['SIM Size'].isna() == True] = \"Other\"\n",
    "\n",
    "    data['Image Resolution'][data['Image Resolution'].isna() == True] = \"Other\"\n",
    "\n",
    "    data['Fingerprint Sensor'][data['Fingerprint Sensor'].isna() == True] = \"Other\"\n",
    "\n",
    "    data['Expandable Memory'][data['Expandable Memory'].isna() == True] = \"No\"\n",
    "\n",
    "    data['Weight'] = data['Weight'].apply(for_integer)\n",
    "    data['Weight'] = data['Weight'].fillna(data['Weight'].mean())\n",
    "    data['Weight'] = data['Weight'].astype(int)\n",
    "\n",
    "    data['SIM 2'] = data['SIM 2'].apply(for_string)\n",
    "    data['SIM 2'][data['SIM 2'].isna() == True] = \"Other\"\n",
    "    \n",
    "    return data"
   ]
  },
  {
   "cell_type": "code",
   "execution_count": 9,
   "id": "local-anatomy",
   "metadata": {
    "execution": {
     "iopub.execute_input": "2021-05-11T09:09:58.140238Z",
     "iopub.status.busy": "2021-05-11T09:09:58.139242Z",
     "iopub.status.idle": "2021-05-11T09:09:58.274466Z",
     "shell.execute_reply": "2021-05-11T09:09:58.275034Z"
    },
    "papermill": {
     "duration": 0.169828,
     "end_time": "2021-05-11T09:09:58.275265",
     "exception": false,
     "start_time": "2021-05-11T09:09:58.105437",
     "status": "completed"
    },
    "tags": []
   },
   "outputs": [
    {
     "name": "stdout",
     "output_type": "stream",
     "text": [
      "Number of data points in train: 341\n",
      "Number of features in train: 51\n",
      "Number of data points in test: 119\n",
      "Number of features in test: 50\n"
     ]
    }
   ],
   "source": [
    "train = data_clean_2(train)\n",
    "test = data_clean_2(test)\n",
    "\n",
    "# check the number of features and data points in train\n",
    "print(\"Number of data points in train: %d\" % train.shape[0])\n",
    "print(\"Number of features in train: %d\" % train.shape[1])\n",
    "\n",
    "# check the number of features and data points in test\n",
    "print(\"Number of data points in test: %d\" % test.shape[0])\n",
    "print(\"Number of features in test: %d\" % test.shape[1])"
   ]
  },
  {
   "cell_type": "markdown",
   "id": "external-twelve",
   "metadata": {
    "papermill": {
     "duration": 0.029754,
     "end_time": "2021-05-11T09:09:58.335528",
     "exception": false,
     "start_time": "2021-05-11T09:09:58.305774",
     "status": "completed"
    },
    "tags": []
   },
   "source": [
    "Not very important feature"
   ]
  },
  {
   "cell_type": "code",
   "execution_count": 10,
   "id": "fuzzy-constant",
   "metadata": {
    "execution": {
     "iopub.execute_input": "2021-05-11T09:09:58.406855Z",
     "iopub.status.busy": "2021-05-11T09:09:58.405809Z",
     "iopub.status.idle": "2021-05-11T09:09:58.409370Z",
     "shell.execute_reply": "2021-05-11T09:09:58.408822Z"
    },
    "papermill": {
     "duration": 0.043528,
     "end_time": "2021-05-11T09:09:58.409526",
     "exception": false,
     "start_time": "2021-05-11T09:09:58.365998",
     "status": "completed"
    },
    "tags": []
   },
   "outputs": [],
   "source": [
    "def data_clean_3(x):\n",
    "    \n",
    "    data = x.copy()\n",
    "\n",
    "    columns_to_remove = ['User Available Storage','SIM Size','Chipset','Processor','Autofocus','Aspect Ratio','Touch Screen',\n",
    "                        'Bezel-less display','Operating System','SIM 1','USB Connectivity','Other Sensors','Graphics','FM Radio',\n",
    "                        'NFC','Shooting Modes','Browser','Display Colour' ]\n",
    "\n",
    "    columns_to_retain = list(set(data.columns)-set(columns_to_remove))\n",
    "    data = data[columns_to_retain]\n",
    "\n",
    "\n",
    "    columns_to_remove = [ 'Screen Resolution','User Replaceable','Camera Features',\n",
    "                        'Thickness', 'Display Type']\n",
    "\n",
    "    columns_to_retain = list(set(data.columns)-set(columns_to_remove))\n",
    "    data = data[columns_to_retain]\n",
    "\n",
    "\n",
    "    columns_to_remove = ['Fingerprint Sensor', 'Flash', 'Rating Count', 'Review Count','Image Resolution','Type','Expandable Memory',\\\n",
    "                        'Colours','Width','Model']\n",
    "    columns_to_retain = list(set(data.columns)-set(columns_to_remove))\n",
    "    data = data[columns_to_retain]\n",
    "\n",
    "    return data"
   ]
  },
  {
   "cell_type": "code",
   "execution_count": 11,
   "id": "defensive-poultry",
   "metadata": {
    "execution": {
     "iopub.execute_input": "2021-05-11T09:09:58.480790Z",
     "iopub.status.busy": "2021-05-11T09:09:58.479691Z",
     "iopub.status.idle": "2021-05-11T09:09:58.494402Z",
     "shell.execute_reply": "2021-05-11T09:09:58.493803Z"
    },
    "papermill": {
     "duration": 0.053816,
     "end_time": "2021-05-11T09:09:58.494564",
     "exception": false,
     "start_time": "2021-05-11T09:09:58.440748",
     "status": "completed"
    },
    "tags": []
   },
   "outputs": [
    {
     "name": "stdout",
     "output_type": "stream",
     "text": [
      "Number of data points in train: 341\n",
      "Number of features in train: 18\n",
      "Number of data points in test: 119\n",
      "Number of features in test: 17\n"
     ]
    }
   ],
   "source": [
    "train = data_clean_3(train)\n",
    "test = data_clean_3(test)\n",
    "\n",
    "# check the number of features and data points in train\n",
    "print(\"Number of data points in train: %d\" % train.shape[0])\n",
    "print(\"Number of features in train: %d\" % train.shape[1])\n",
    "\n",
    "# check the number of features and data points in test\n",
    "print(\"Number of data points in test: %d\" % test.shape[0])\n",
    "print(\"Number of features in test: %d\" % test.shape[1])"
   ]
  },
  {
   "cell_type": "code",
   "execution_count": 12,
   "id": "mineral-cancer",
   "metadata": {
    "execution": {
     "iopub.execute_input": "2021-05-11T09:09:58.585235Z",
     "iopub.status.busy": "2021-05-11T09:09:58.584082Z",
     "iopub.status.idle": "2021-05-11T09:09:58.610226Z",
     "shell.execute_reply": "2021-05-11T09:09:58.610941Z"
    },
    "papermill": {
     "duration": 0.083316,
     "end_time": "2021-05-11T09:09:58.611230",
     "exception": false,
     "start_time": "2021-05-11T09:09:58.527914",
     "status": "completed"
    },
    "tags": []
   },
   "outputs": [
    {
     "name": "stdout",
     "output_type": "stream",
     "text": [
      "(460, 17)\n",
      "Index(['PhoneId', 'Capacity', 'Resolution', 'Sim1', 'Brand', 'Screen Size',\n",
      "       'Processor_frequency', 'Pixel Density', 'SIM 2', 'RAM', 'SIM Slot(s)',\n",
      "       'Height', 'os_name', 'Weight', 'Screen to Body Ratio (calculated)',\n",
      "       'Internal Memory', 'Num_cores'],\n",
      "      dtype='object')\n",
      "(460, 87)\n",
      "Index(['PhoneId', 'Capacity', 'Resolution', 'Screen Size',\n",
      "       'Processor_frequency', 'Pixel Density', 'RAM', 'Height', 'Weight',\n",
      "       'Screen to Body Ratio (calculated)', 'Internal Memory', 'Sim1_2G',\n",
      "       'Sim1_3G', 'Sim1_4G', 'Brand_10.or', 'Brand_Apple', 'Brand_Asus',\n",
      "       'Brand_Billion', 'Brand_Blackberry', 'Brand_Comio', 'Brand_Coolpad',\n",
      "       'Brand_Do', 'Brand_Gionee', 'Brand_Google', 'Brand_HTC', 'Brand_Honor',\n",
      "       'Brand_Huawei', 'Brand_InFocus', 'Brand_Infinix', 'Brand_Intex',\n",
      "       'Brand_Itel', 'Brand_Jivi', 'Brand_Karbonn', 'Brand_LG', 'Brand_Lava',\n",
      "       'Brand_LeEco', 'Brand_Lenovo', 'Brand_Lephone', 'Brand_Lyf',\n",
      "       'Brand_Meizu', 'Brand_Micromax', 'Brand_Mobiistar', 'Brand_Moto',\n",
      "       'Brand_Motorola', 'Brand_Nokia', 'Brand_Nubia', 'Brand_OPPO',\n",
      "       'Brand_OnePlus', 'Brand_Oppo', 'Brand_Panasonic', 'Brand_Razer',\n",
      "       'Brand_Realme', 'Brand_Reliance', 'Brand_Samsung', 'Brand_Sony',\n",
      "       'Brand_Spice', 'Brand_Tecno', 'Brand_Ulefone', 'Brand_VOTO',\n",
      "       'Brand_Vivo', 'Brand_Xiaomi', 'Brand_Xiaomi Poco', 'Brand_Yu',\n",
      "       'Brand_iVooMi', 'SIM 2_2G', 'SIM 2_3G', 'SIM 2_4G', 'SIM 2_Other',\n",
      "       'SIM Slot(s)_Dual SIM, GSM+CDMA', 'SIM Slot(s)_Dual SIM, GSM+GSM',\n",
      "       'SIM Slot(s)_Dual SIM, GSM+GSM, Dual VoLTE',\n",
      "       'SIM Slot(s)_Single SIM, GSM', 'os_name_Android', 'os_name_Blackberry',\n",
      "       'os_name_KAI', 'os_name_Nokia', 'os_name_Other', 'os_name_Tizen',\n",
      "       'os_name_iOS', 'Num_cores_312', 'Num_cores_Deca', 'Num_cores_Dual',\n",
      "       'Num_cores_Hexa', 'Num_cores_Octa', 'Num_cores_Other', 'Num_cores_Quad',\n",
      "       'Num_cores_Tru-Octa'],\n",
      "      dtype='object')\n"
     ]
    }
   ],
   "source": [
    "# one hot encoding\n",
    "\n",
    "train_ids = train['PhoneId']\n",
    "test_ids = test['PhoneId']\n",
    "\n",
    "cols = list(test.columns)\n",
    "cols.remove('PhoneId')\n",
    "cols.insert(0, 'PhoneId')\n",
    "\n",
    "combined = pd.concat([train.drop('Rating', axis=1)[cols], test[cols]])\n",
    "print(combined.shape)\n",
    "print(combined.columns)\n",
    "\n",
    "combined = pd.get_dummies(combined)\n",
    "print(combined.shape)\n",
    "print(combined.columns)\n",
    "\n",
    "train_new = combined[combined['PhoneId'].isin(train_ids)]\n",
    "test_new = combined[combined['PhoneId'].isin(test_ids)]"
   ]
  },
  {
   "cell_type": "code",
   "execution_count": 13,
   "id": "conditional-freedom",
   "metadata": {
    "execution": {
     "iopub.execute_input": "2021-05-11T09:09:58.683201Z",
     "iopub.status.busy": "2021-05-11T09:09:58.682561Z",
     "iopub.status.idle": "2021-05-11T09:09:58.701656Z",
     "shell.execute_reply": "2021-05-11T09:09:58.700972Z"
    },
    "papermill": {
     "duration": 0.054192,
     "end_time": "2021-05-11T09:09:58.701831",
     "exception": false,
     "start_time": "2021-05-11T09:09:58.647639",
     "status": "completed"
    },
    "tags": []
   },
   "outputs": [],
   "source": [
    "train_new = train_new.merge(train[['PhoneId', 'Rating']], on='PhoneId')"
   ]
  },
  {
   "cell_type": "code",
   "execution_count": 14,
   "id": "suitable-vacuum",
   "metadata": {
    "execution": {
     "iopub.execute_input": "2021-05-11T09:09:58.770111Z",
     "iopub.status.busy": "2021-05-11T09:09:58.769313Z",
     "iopub.status.idle": "2021-05-11T09:09:58.775776Z",
     "shell.execute_reply": "2021-05-11T09:09:58.776277Z"
    },
    "papermill": {
     "duration": 0.04239,
     "end_time": "2021-05-11T09:09:58.776483",
     "exception": false,
     "start_time": "2021-05-11T09:09:58.734093",
     "status": "completed"
    },
    "tags": []
   },
   "outputs": [
    {
     "name": "stdout",
     "output_type": "stream",
     "text": [
      "Number of data points in train: 341\n",
      "Number of features in train: 88\n",
      "Number of data points in test: 119\n",
      "Number of features in test: 87\n"
     ]
    }
   ],
   "source": [
    "# check the number of features and data points in train\n",
    "print(\"Number of data points in train: %d\" % train_new.shape[0])\n",
    "print(\"Number of features in train: %d\" % train_new.shape[1])\n",
    "\n",
    "# check the number of features and data points in test\n",
    "print(\"Number of data points in test: %d\" % test_new.shape[0])\n",
    "print(\"Number of features in test: %d\" % test_new.shape[1])"
   ]
  },
  {
   "cell_type": "code",
   "execution_count": 15,
   "id": "liquid-wednesday",
   "metadata": {
    "execution": {
     "iopub.execute_input": "2021-05-11T09:09:58.846813Z",
     "iopub.status.busy": "2021-05-11T09:09:58.846066Z",
     "iopub.status.idle": "2021-05-11T09:09:58.883503Z",
     "shell.execute_reply": "2021-05-11T09:09:58.884062Z"
    },
    "papermill": {
     "duration": 0.074352,
     "end_time": "2021-05-11T09:09:58.884271",
     "exception": false,
     "start_time": "2021-05-11T09:09:58.809919",
     "status": "completed"
    },
    "tags": []
   },
   "outputs": [
    {
     "data": {
      "text/html": [
       "<div>\n",
       "<style scoped>\n",
       "    .dataframe tbody tr th:only-of-type {\n",
       "        vertical-align: middle;\n",
       "    }\n",
       "\n",
       "    .dataframe tbody tr th {\n",
       "        vertical-align: top;\n",
       "    }\n",
       "\n",
       "    .dataframe thead th {\n",
       "        text-align: right;\n",
       "    }\n",
       "</style>\n",
       "<table border=\"1\" class=\"dataframe\">\n",
       "  <thead>\n",
       "    <tr style=\"text-align: right;\">\n",
       "      <th></th>\n",
       "      <th>PhoneId</th>\n",
       "      <th>Capacity</th>\n",
       "      <th>Resolution</th>\n",
       "      <th>Screen Size</th>\n",
       "      <th>Processor_frequency</th>\n",
       "      <th>Pixel Density</th>\n",
       "      <th>RAM</th>\n",
       "      <th>Height</th>\n",
       "      <th>Weight</th>\n",
       "      <th>Screen to Body Ratio (calculated)</th>\n",
       "      <th>...</th>\n",
       "      <th>os_name_iOS</th>\n",
       "      <th>Num_cores_312</th>\n",
       "      <th>Num_cores_Deca</th>\n",
       "      <th>Num_cores_Dual</th>\n",
       "      <th>Num_cores_Hexa</th>\n",
       "      <th>Num_cores_Octa</th>\n",
       "      <th>Num_cores_Other</th>\n",
       "      <th>Num_cores_Quad</th>\n",
       "      <th>Num_cores_Tru-Octa</th>\n",
       "      <th>Rating</th>\n",
       "    </tr>\n",
       "  </thead>\n",
       "  <tbody>\n",
       "    <tr>\n",
       "      <th>0</th>\n",
       "      <td>0</td>\n",
       "      <td>4000</td>\n",
       "      <td>20</td>\n",
       "      <td>6.26</td>\n",
       "      <td>1.8</td>\n",
       "      <td>403</td>\n",
       "      <td>4</td>\n",
       "      <td>157.9</td>\n",
       "      <td>182</td>\n",
       "      <td>80.68</td>\n",
       "      <td>...</td>\n",
       "      <td>0</td>\n",
       "      <td>0</td>\n",
       "      <td>0</td>\n",
       "      <td>0</td>\n",
       "      <td>0</td>\n",
       "      <td>1</td>\n",
       "      <td>0</td>\n",
       "      <td>0</td>\n",
       "      <td>0</td>\n",
       "      <td>4.5</td>\n",
       "    </tr>\n",
       "    <tr>\n",
       "      <th>1</th>\n",
       "      <td>1</td>\n",
       "      <td>4230</td>\n",
       "      <td>8</td>\n",
       "      <td>6.20</td>\n",
       "      <td>1.8</td>\n",
       "      <td>271</td>\n",
       "      <td>3</td>\n",
       "      <td>156.2</td>\n",
       "      <td>168</td>\n",
       "      <td>80.85</td>\n",
       "      <td>...</td>\n",
       "      <td>0</td>\n",
       "      <td>0</td>\n",
       "      <td>0</td>\n",
       "      <td>0</td>\n",
       "      <td>0</td>\n",
       "      <td>1</td>\n",
       "      <td>0</td>\n",
       "      <td>0</td>\n",
       "      <td>0</td>\n",
       "      <td>4.5</td>\n",
       "    </tr>\n",
       "    <tr>\n",
       "      <th>2</th>\n",
       "      <td>2</td>\n",
       "      <td>3500</td>\n",
       "      <td>25</td>\n",
       "      <td>6.30</td>\n",
       "      <td>2.1</td>\n",
       "      <td>409</td>\n",
       "      <td>3</td>\n",
       "      <td>157.0</td>\n",
       "      <td>168</td>\n",
       "      <td>83.68</td>\n",
       "      <td>...</td>\n",
       "      <td>0</td>\n",
       "      <td>0</td>\n",
       "      <td>0</td>\n",
       "      <td>0</td>\n",
       "      <td>0</td>\n",
       "      <td>1</td>\n",
       "      <td>0</td>\n",
       "      <td>0</td>\n",
       "      <td>0</td>\n",
       "      <td>4.4</td>\n",
       "    </tr>\n",
       "    <tr>\n",
       "      <th>3</th>\n",
       "      <td>4</td>\n",
       "      <td>3300</td>\n",
       "      <td>24</td>\n",
       "      <td>6.00</td>\n",
       "      <td>2.2</td>\n",
       "      <td>411</td>\n",
       "      <td>4</td>\n",
       "      <td>159.8</td>\n",
       "      <td>169</td>\n",
       "      <td>74.78</td>\n",
       "      <td>...</td>\n",
       "      <td>0</td>\n",
       "      <td>0</td>\n",
       "      <td>0</td>\n",
       "      <td>0</td>\n",
       "      <td>0</td>\n",
       "      <td>1</td>\n",
       "      <td>0</td>\n",
       "      <td>0</td>\n",
       "      <td>0</td>\n",
       "      <td>4.3</td>\n",
       "    </tr>\n",
       "    <tr>\n",
       "      <th>4</th>\n",
       "      <td>5</td>\n",
       "      <td>3750</td>\n",
       "      <td>16</td>\n",
       "      <td>6.50</td>\n",
       "      <td>2.2</td>\n",
       "      <td>396</td>\n",
       "      <td>4</td>\n",
       "      <td>160.4</td>\n",
       "      <td>175</td>\n",
       "      <td>84.23</td>\n",
       "      <td>...</td>\n",
       "      <td>0</td>\n",
       "      <td>0</td>\n",
       "      <td>0</td>\n",
       "      <td>0</td>\n",
       "      <td>0</td>\n",
       "      <td>1</td>\n",
       "      <td>0</td>\n",
       "      <td>0</td>\n",
       "      <td>0</td>\n",
       "      <td>4.4</td>\n",
       "    </tr>\n",
       "  </tbody>\n",
       "</table>\n",
       "<p>5 rows × 88 columns</p>\n",
       "</div>"
      ],
      "text/plain": [
       "   PhoneId  Capacity  Resolution  Screen Size  Processor_frequency  \\\n",
       "0        0      4000          20         6.26                  1.8   \n",
       "1        1      4230           8         6.20                  1.8   \n",
       "2        2      3500          25         6.30                  2.1   \n",
       "3        4      3300          24         6.00                  2.2   \n",
       "4        5      3750          16         6.50                  2.2   \n",
       "\n",
       "   Pixel Density  RAM  Height  Weight  Screen to Body Ratio (calculated)  ...  \\\n",
       "0            403    4   157.9     182                              80.68  ...   \n",
       "1            271    3   156.2     168                              80.85  ...   \n",
       "2            409    3   157.0     168                              83.68  ...   \n",
       "3            411    4   159.8     169                              74.78  ...   \n",
       "4            396    4   160.4     175                              84.23  ...   \n",
       "\n",
       "   os_name_iOS  Num_cores_312  Num_cores_Deca  Num_cores_Dual  Num_cores_Hexa  \\\n",
       "0            0              0               0               0               0   \n",
       "1            0              0               0               0               0   \n",
       "2            0              0               0               0               0   \n",
       "3            0              0               0               0               0   \n",
       "4            0              0               0               0               0   \n",
       "\n",
       "   Num_cores_Octa  Num_cores_Other  Num_cores_Quad  Num_cores_Tru-Octa  Rating  \n",
       "0               1                0               0                   0     4.5  \n",
       "1               1                0               0                   0     4.5  \n",
       "2               1                0               0                   0     4.4  \n",
       "3               1                0               0                   0     4.3  \n",
       "4               1                0               0                   0     4.4  \n",
       "\n",
       "[5 rows x 88 columns]"
      ]
     },
     "execution_count": 15,
     "metadata": {},
     "output_type": "execute_result"
    }
   ],
   "source": [
    "train_new.head()"
   ]
  },
  {
   "cell_type": "code",
   "execution_count": 16,
   "id": "binary-partner",
   "metadata": {
    "execution": {
     "iopub.execute_input": "2021-05-11T09:09:58.976617Z",
     "iopub.status.busy": "2021-05-11T09:09:58.955352Z",
     "iopub.status.idle": "2021-05-11T09:09:58.983228Z",
     "shell.execute_reply": "2021-05-11T09:09:58.983716Z"
    },
    "papermill": {
     "duration": 0.066008,
     "end_time": "2021-05-11T09:09:58.983937",
     "exception": false,
     "start_time": "2021-05-11T09:09:58.917929",
     "status": "completed"
    },
    "tags": []
   },
   "outputs": [
    {
     "data": {
      "text/html": [
       "<div>\n",
       "<style scoped>\n",
       "    .dataframe tbody tr th:only-of-type {\n",
       "        vertical-align: middle;\n",
       "    }\n",
       "\n",
       "    .dataframe tbody tr th {\n",
       "        vertical-align: top;\n",
       "    }\n",
       "\n",
       "    .dataframe thead th {\n",
       "        text-align: right;\n",
       "    }\n",
       "</style>\n",
       "<table border=\"1\" class=\"dataframe\">\n",
       "  <thead>\n",
       "    <tr style=\"text-align: right;\">\n",
       "      <th></th>\n",
       "      <th>PhoneId</th>\n",
       "      <th>Capacity</th>\n",
       "      <th>Resolution</th>\n",
       "      <th>Screen Size</th>\n",
       "      <th>Processor_frequency</th>\n",
       "      <th>Pixel Density</th>\n",
       "      <th>RAM</th>\n",
       "      <th>Height</th>\n",
       "      <th>Weight</th>\n",
       "      <th>Screen to Body Ratio (calculated)</th>\n",
       "      <th>...</th>\n",
       "      <th>os_name_Tizen</th>\n",
       "      <th>os_name_iOS</th>\n",
       "      <th>Num_cores_312</th>\n",
       "      <th>Num_cores_Deca</th>\n",
       "      <th>Num_cores_Dual</th>\n",
       "      <th>Num_cores_Hexa</th>\n",
       "      <th>Num_cores_Octa</th>\n",
       "      <th>Num_cores_Other</th>\n",
       "      <th>Num_cores_Quad</th>\n",
       "      <th>Num_cores_Tru-Octa</th>\n",
       "    </tr>\n",
       "  </thead>\n",
       "  <tbody>\n",
       "    <tr>\n",
       "      <th>0</th>\n",
       "      <td>3</td>\n",
       "      <td>4230</td>\n",
       "      <td>5</td>\n",
       "      <td>6.20</td>\n",
       "      <td>1.8</td>\n",
       "      <td>271</td>\n",
       "      <td>2</td>\n",
       "      <td>156.2</td>\n",
       "      <td>168</td>\n",
       "      <td>80.85</td>\n",
       "      <td>...</td>\n",
       "      <td>0</td>\n",
       "      <td>0</td>\n",
       "      <td>0</td>\n",
       "      <td>0</td>\n",
       "      <td>0</td>\n",
       "      <td>0</td>\n",
       "      <td>1</td>\n",
       "      <td>0</td>\n",
       "      <td>0</td>\n",
       "      <td>0</td>\n",
       "    </tr>\n",
       "    <tr>\n",
       "      <th>1</th>\n",
       "      <td>11</td>\n",
       "      <td>5000</td>\n",
       "      <td>12</td>\n",
       "      <td>6.20</td>\n",
       "      <td>1.8</td>\n",
       "      <td>402</td>\n",
       "      <td>4</td>\n",
       "      <td>156.0</td>\n",
       "      <td>205</td>\n",
       "      <td>81.60</td>\n",
       "      <td>...</td>\n",
       "      <td>0</td>\n",
       "      <td>0</td>\n",
       "      <td>0</td>\n",
       "      <td>0</td>\n",
       "      <td>0</td>\n",
       "      <td>0</td>\n",
       "      <td>1</td>\n",
       "      <td>0</td>\n",
       "      <td>0</td>\n",
       "      <td>0</td>\n",
       "    </tr>\n",
       "    <tr>\n",
       "      <th>2</th>\n",
       "      <td>13</td>\n",
       "      <td>3500</td>\n",
       "      <td>25</td>\n",
       "      <td>6.30</td>\n",
       "      <td>2.0</td>\n",
       "      <td>409</td>\n",
       "      <td>6</td>\n",
       "      <td>156.7</td>\n",
       "      <td>169</td>\n",
       "      <td>83.84</td>\n",
       "      <td>...</td>\n",
       "      <td>0</td>\n",
       "      <td>0</td>\n",
       "      <td>0</td>\n",
       "      <td>0</td>\n",
       "      <td>0</td>\n",
       "      <td>0</td>\n",
       "      <td>1</td>\n",
       "      <td>0</td>\n",
       "      <td>0</td>\n",
       "      <td>0</td>\n",
       "    </tr>\n",
       "    <tr>\n",
       "      <th>3</th>\n",
       "      <td>16</td>\n",
       "      <td>3500</td>\n",
       "      <td>16</td>\n",
       "      <td>6.30</td>\n",
       "      <td>2.0</td>\n",
       "      <td>409</td>\n",
       "      <td>4</td>\n",
       "      <td>156.7</td>\n",
       "      <td>169</td>\n",
       "      <td>83.84</td>\n",
       "      <td>...</td>\n",
       "      <td>0</td>\n",
       "      <td>0</td>\n",
       "      <td>0</td>\n",
       "      <td>0</td>\n",
       "      <td>0</td>\n",
       "      <td>0</td>\n",
       "      <td>1</td>\n",
       "      <td>0</td>\n",
       "      <td>0</td>\n",
       "      <td>0</td>\n",
       "    </tr>\n",
       "    <tr>\n",
       "      <th>4</th>\n",
       "      <td>19</td>\n",
       "      <td>4000</td>\n",
       "      <td>20</td>\n",
       "      <td>5.99</td>\n",
       "      <td>1.8</td>\n",
       "      <td>403</td>\n",
       "      <td>4</td>\n",
       "      <td>158.6</td>\n",
       "      <td>181</td>\n",
       "      <td>77.43</td>\n",
       "      <td>...</td>\n",
       "      <td>0</td>\n",
       "      <td>0</td>\n",
       "      <td>0</td>\n",
       "      <td>0</td>\n",
       "      <td>0</td>\n",
       "      <td>0</td>\n",
       "      <td>1</td>\n",
       "      <td>0</td>\n",
       "      <td>0</td>\n",
       "      <td>0</td>\n",
       "    </tr>\n",
       "  </tbody>\n",
       "</table>\n",
       "<p>5 rows × 87 columns</p>\n",
       "</div>"
      ],
      "text/plain": [
       "   PhoneId  Capacity  Resolution  Screen Size  Processor_frequency  \\\n",
       "0        3      4230           5         6.20                  1.8   \n",
       "1       11      5000          12         6.20                  1.8   \n",
       "2       13      3500          25         6.30                  2.0   \n",
       "3       16      3500          16         6.30                  2.0   \n",
       "4       19      4000          20         5.99                  1.8   \n",
       "\n",
       "   Pixel Density  RAM  Height  Weight  Screen to Body Ratio (calculated)  ...  \\\n",
       "0            271    2   156.2     168                              80.85  ...   \n",
       "1            402    4   156.0     205                              81.60  ...   \n",
       "2            409    6   156.7     169                              83.84  ...   \n",
       "3            409    4   156.7     169                              83.84  ...   \n",
       "4            403    4   158.6     181                              77.43  ...   \n",
       "\n",
       "   os_name_Tizen  os_name_iOS  Num_cores_312  Num_cores_Deca  Num_cores_Dual  \\\n",
       "0              0            0              0               0               0   \n",
       "1              0            0              0               0               0   \n",
       "2              0            0              0               0               0   \n",
       "3              0            0              0               0               0   \n",
       "4              0            0              0               0               0   \n",
       "\n",
       "   Num_cores_Hexa  Num_cores_Octa  Num_cores_Other  Num_cores_Quad  \\\n",
       "0               0               1                0               0   \n",
       "1               0               1                0               0   \n",
       "2               0               1                0               0   \n",
       "3               0               1                0               0   \n",
       "4               0               1                0               0   \n",
       "\n",
       "   Num_cores_Tru-Octa  \n",
       "0                   0  \n",
       "1                   0  \n",
       "2                   0  \n",
       "3                   0  \n",
       "4                   0  \n",
       "\n",
       "[5 rows x 87 columns]"
      ]
     },
     "execution_count": 16,
     "metadata": {},
     "output_type": "execute_result"
    }
   ],
   "source": [
    "test_new.head()"
   ]
  },
  {
   "cell_type": "markdown",
   "id": "whole-client",
   "metadata": {
    "papermill": {
     "duration": 0.034435,
     "end_time": "2021-05-11T09:09:59.052476",
     "exception": false,
     "start_time": "2021-05-11T09:09:59.018041",
     "status": "completed"
    },
    "tags": []
   },
   "source": [
    "## Dummy Solution"
   ]
  },
  {
   "cell_type": "code",
   "execution_count": 17,
   "id": "hollow-bosnia",
   "metadata": {
    "execution": {
     "iopub.execute_input": "2021-05-11T09:09:59.126155Z",
     "iopub.status.busy": "2021-05-11T09:09:59.125464Z",
     "iopub.status.idle": "2021-05-11T09:09:59.131818Z",
     "shell.execute_reply": "2021-05-11T09:09:59.132357Z"
    },
    "papermill": {
     "duration": 0.045789,
     "end_time": "2021-05-11T09:09:59.132587",
     "exception": false,
     "start_time": "2021-05-11T09:09:59.086798",
     "status": "completed"
    },
    "tags": []
   },
   "outputs": [],
   "source": [
    "train_data = train_new.drop(['Rating','PhoneId'],axis = 1)"
   ]
  },
  {
   "cell_type": "code",
   "execution_count": 18,
   "id": "successful-facing",
   "metadata": {
    "execution": {
     "iopub.execute_input": "2021-05-11T09:09:59.205148Z",
     "iopub.status.busy": "2021-05-11T09:09:59.204323Z",
     "iopub.status.idle": "2021-05-11T09:09:59.210456Z",
     "shell.execute_reply": "2021-05-11T09:09:59.209744Z"
    },
    "papermill": {
     "duration": 0.043461,
     "end_time": "2021-05-11T09:09:59.210659",
     "exception": false,
     "start_time": "2021-05-11T09:09:59.167198",
     "status": "completed"
    },
    "tags": []
   },
   "outputs": [],
   "source": [
    "Y_train_data = train_new['Rating']"
   ]
  },
  {
   "cell_type": "code",
   "execution_count": 19,
   "id": "described-aerospace",
   "metadata": {
    "execution": {
     "iopub.execute_input": "2021-05-11T09:09:59.283491Z",
     "iopub.status.busy": "2021-05-11T09:09:59.282436Z",
     "iopub.status.idle": "2021-05-11T09:09:59.288077Z",
     "shell.execute_reply": "2021-05-11T09:09:59.288542Z"
    },
    "papermill": {
     "duration": 0.043816,
     "end_time": "2021-05-11T09:09:59.288859",
     "exception": false,
     "start_time": "2021-05-11T09:09:59.245043",
     "status": "completed"
    },
    "tags": []
   },
   "outputs": [],
   "source": [
    "test_data = test_new.drop('PhoneId',axis = 1)"
   ]
  },
  {
   "cell_type": "code",
   "execution_count": 20,
   "id": "handmade-sheep",
   "metadata": {
    "execution": {
     "iopub.execute_input": "2021-05-11T09:09:59.362282Z",
     "iopub.status.busy": "2021-05-11T09:09:59.361540Z",
     "iopub.status.idle": "2021-05-11T09:09:59.368083Z",
     "shell.execute_reply": "2021-05-11T09:09:59.368565Z"
    },
    "papermill": {
     "duration": 0.045106,
     "end_time": "2021-05-11T09:09:59.368807",
     "exception": false,
     "start_time": "2021-05-11T09:09:59.323701",
     "status": "completed"
    },
    "tags": []
   },
   "outputs": [
    {
     "data": {
      "text/plain": [
       "(119, 86)"
      ]
     },
     "execution_count": 20,
     "metadata": {},
     "output_type": "execute_result"
    }
   ],
   "source": [
    "test_data.shape"
   ]
  },
  {
   "cell_type": "code",
   "execution_count": 21,
   "id": "supreme-vessel",
   "metadata": {
    "execution": {
     "iopub.execute_input": "2021-05-11T09:09:59.446888Z",
     "iopub.status.busy": "2021-05-11T09:09:59.446166Z",
     "iopub.status.idle": "2021-05-11T09:09:59.452344Z",
     "shell.execute_reply": "2021-05-11T09:09:59.451687Z"
    },
    "papermill": {
     "duration": 0.047282,
     "end_time": "2021-05-11T09:09:59.452502",
     "exception": false,
     "start_time": "2021-05-11T09:09:59.405220",
     "status": "completed"
    },
    "tags": []
   },
   "outputs": [],
   "source": [
    "#binarised_train_data = train_data.apply(pd.cut,bins = 2,labels = [0,1])\n",
    "#binarised_test_data = test_data.apply(pd.cut,bins = 2,labels = [0,1])\n",
    "stan = StandardScaler()\n",
    "binarised_train_data = pd.DataFrame(stan.fit_transform(train_data.values))"
   ]
  },
  {
   "cell_type": "code",
   "execution_count": 22,
   "id": "sacred-constraint",
   "metadata": {
    "execution": {
     "iopub.execute_input": "2021-05-11T09:09:59.531241Z",
     "iopub.status.busy": "2021-05-11T09:09:59.530442Z",
     "iopub.status.idle": "2021-05-11T09:09:59.533549Z",
     "shell.execute_reply": "2021-05-11T09:09:59.533034Z"
    },
    "papermill": {
     "duration": 0.045845,
     "end_time": "2021-05-11T09:09:59.533728",
     "exception": false,
     "start_time": "2021-05-11T09:09:59.487883",
     "status": "completed"
    },
    "tags": []
   },
   "outputs": [],
   "source": [
    "binarised_Y_train_data = Y_train_data.map(lambda x: 1 if x>=THRESHOLD else 0)"
   ]
  },
  {
   "cell_type": "code",
   "execution_count": 23,
   "id": "forced-cheat",
   "metadata": {
    "execution": {
     "iopub.execute_input": "2021-05-11T09:09:59.611082Z",
     "iopub.status.busy": "2021-05-11T09:09:59.610368Z",
     "iopub.status.idle": "2021-05-11T09:09:59.615674Z",
     "shell.execute_reply": "2021-05-11T09:09:59.615011Z"
    },
    "papermill": {
     "duration": 0.046943,
     "end_time": "2021-05-11T09:09:59.615871",
     "exception": false,
     "start_time": "2021-05-11T09:09:59.568928",
     "status": "completed"
    },
    "tags": []
   },
   "outputs": [],
   "source": [
    "stan = StandardScaler()\n",
    "binarised_test_data = pd.DataFrame(stan.fit_transform(test_data.values))"
   ]
  },
  {
   "cell_type": "code",
   "execution_count": 24,
   "id": "radical-spoke",
   "metadata": {
    "execution": {
     "iopub.execute_input": "2021-05-11T09:09:59.694994Z",
     "iopub.status.busy": "2021-05-11T09:09:59.694212Z",
     "iopub.status.idle": "2021-05-11T09:09:59.697549Z",
     "shell.execute_reply": "2021-05-11T09:09:59.698105Z"
    },
    "papermill": {
     "duration": 0.045975,
     "end_time": "2021-05-11T09:09:59.698304",
     "exception": false,
     "start_time": "2021-05-11T09:09:59.652329",
     "status": "completed"
    },
    "tags": []
   },
   "outputs": [
    {
     "data": {
      "text/plain": [
       "(119, 86)"
      ]
     },
     "execution_count": 24,
     "metadata": {},
     "output_type": "execute_result"
    }
   ],
   "source": [
    "binarised_test_data.shape"
   ]
  },
  {
   "cell_type": "code",
   "execution_count": 25,
   "id": "coated-cornwall",
   "metadata": {
    "execution": {
     "iopub.execute_input": "2021-05-11T09:09:59.774817Z",
     "iopub.status.busy": "2021-05-11T09:09:59.774059Z",
     "iopub.status.idle": "2021-05-11T09:09:59.777905Z",
     "shell.execute_reply": "2021-05-11T09:09:59.778446Z"
    },
    "papermill": {
     "duration": 0.044156,
     "end_time": "2021-05-11T09:09:59.778659",
     "exception": false,
     "start_time": "2021-05-11T09:09:59.734503",
     "status": "completed"
    },
    "tags": []
   },
   "outputs": [],
   "source": [
    "binarised_train_values = binarised_train_data.values"
   ]
  },
  {
   "cell_type": "code",
   "execution_count": 26,
   "id": "underlying-coordination",
   "metadata": {
    "execution": {
     "iopub.execute_input": "2021-05-11T09:09:59.856868Z",
     "iopub.status.busy": "2021-05-11T09:09:59.856071Z",
     "iopub.status.idle": "2021-05-11T09:09:59.868104Z",
     "shell.execute_reply": "2021-05-11T09:09:59.868684Z"
    },
    "papermill": {
     "duration": 0.052131,
     "end_time": "2021-05-11T09:09:59.868892",
     "exception": false,
     "start_time": "2021-05-11T09:09:59.816761",
     "status": "completed"
    },
    "tags": []
   },
   "outputs": [],
   "source": [
    "class Perceptron:\n",
    "    def __init__(self):\n",
    "        self.b = None\n",
    "        self.w = None\n",
    "    def model(self,x):\n",
    "        return 1 if (np.dot(self.w,x)>=self.b) else 0\n",
    "    def predict(self,X):\n",
    "        Y = []\n",
    "        for x in X:\n",
    "            y_pred = self.model(x)\n",
    "            Y.append(y_pred)\n",
    "        return np.array(Y)\n",
    "    def fit(self,X,Y,epochs = 1,lr = 1):\n",
    "        accuracy = {}\n",
    "        max_accuracy = 0\n",
    "        self.w = np.ones(X.shape[1])\n",
    "        self.b = 0\n",
    "        for i in range(epochs):\n",
    "            for x,y in zip(X,Y):\n",
    "                y_pred = self.model(x)\n",
    "                if y == 1 and y_pred == 0:\n",
    "                    self.w = self.w+lr*x\n",
    "                    self.b = self.b - lr * 1\n",
    "                elif y == 0 and y_pred == 1:\n",
    "                    self.w = self.w - lr * x\n",
    "                    self.b = self.b + lr * 1\n",
    "            accuracy[i] = accuracy_score(self.predict(X), Y)\n",
    "            if (accuracy[i] > max_accuracy):\n",
    "                max_accuracy = accuracy[i]\n",
    "                chkptw = self.w\n",
    "                chkptb = self.b\n",
    "        \n",
    "        self.w = chkptw\n",
    "        self.b = chkptb\n",
    "            \n",
    "        "
   ]
  },
  {
   "cell_type": "code",
   "execution_count": 27,
   "id": "flexible-column",
   "metadata": {
    "execution": {
     "iopub.execute_input": "2021-05-11T09:09:59.945522Z",
     "iopub.status.busy": "2021-05-11T09:09:59.944832Z",
     "iopub.status.idle": "2021-05-11T09:09:59.949943Z",
     "shell.execute_reply": "2021-05-11T09:09:59.949235Z"
    },
    "papermill": {
     "duration": 0.044861,
     "end_time": "2021-05-11T09:09:59.950117",
     "exception": false,
     "start_time": "2021-05-11T09:09:59.905256",
     "status": "completed"
    },
    "tags": []
   },
   "outputs": [],
   "source": [
    "perceptron = Perceptron()"
   ]
  },
  {
   "cell_type": "code",
   "execution_count": 28,
   "id": "headed-operations",
   "metadata": {
    "execution": {
     "iopub.execute_input": "2021-05-11T09:10:00.027387Z",
     "iopub.status.busy": "2021-05-11T09:10:00.026650Z",
     "iopub.status.idle": "2021-05-11T09:10:00.031677Z",
     "shell.execute_reply": "2021-05-11T09:10:00.031108Z"
    },
    "papermill": {
     "duration": 0.044743,
     "end_time": "2021-05-11T09:10:00.031852",
     "exception": false,
     "start_time": "2021-05-11T09:09:59.987109",
     "status": "completed"
    },
    "tags": []
   },
   "outputs": [],
   "source": [
    "binarised_Y_train_data_values = binarised_Y_train_data.values"
   ]
  },
  {
   "cell_type": "code",
   "execution_count": 29,
   "id": "official-audience",
   "metadata": {
    "execution": {
     "iopub.execute_input": "2021-05-11T09:10:00.110653Z",
     "iopub.status.busy": "2021-05-11T09:10:00.109937Z",
     "iopub.status.idle": "2021-05-11T09:10:02.851786Z",
     "shell.execute_reply": "2021-05-11T09:10:02.851128Z"
    },
    "papermill": {
     "duration": 2.783542,
     "end_time": "2021-05-11T09:10:02.851944",
     "exception": false,
     "start_time": "2021-05-11T09:10:00.068402",
     "status": "completed"
    },
    "tags": []
   },
   "outputs": [],
   "source": [
    "perceptron.fit(binarised_train_values,binarised_Y_train_data,1000,0.25)"
   ]
  },
  {
   "cell_type": "code",
   "execution_count": 30,
   "id": "administrative-journalism",
   "metadata": {
    "execution": {
     "iopub.execute_input": "2021-05-11T09:10:02.932034Z",
     "iopub.status.busy": "2021-05-11T09:10:02.931254Z",
     "iopub.status.idle": "2021-05-11T09:10:02.934844Z",
     "shell.execute_reply": "2021-05-11T09:10:02.934232Z"
    },
    "papermill": {
     "duration": 0.045939,
     "end_time": "2021-05-11T09:10:02.935011",
     "exception": false,
     "start_time": "2021-05-11T09:10:02.889072",
     "status": "completed"
    },
    "tags": []
   },
   "outputs": [],
   "source": [
    "binarised_test_values = binarised_test_data.values"
   ]
  },
  {
   "cell_type": "code",
   "execution_count": 31,
   "id": "judicial-prince",
   "metadata": {
    "execution": {
     "iopub.execute_input": "2021-05-11T09:10:03.017324Z",
     "iopub.status.busy": "2021-05-11T09:10:03.016598Z",
     "iopub.status.idle": "2021-05-11T09:10:03.020636Z",
     "shell.execute_reply": "2021-05-11T09:10:03.021159Z"
    },
    "papermill": {
     "duration": 0.04947,
     "end_time": "2021-05-11T09:10:03.021359",
     "exception": false,
     "start_time": "2021-05-11T09:10:02.971889",
     "status": "completed"
    },
    "tags": []
   },
   "outputs": [
    {
     "data": {
      "text/plain": [
       "119"
      ]
     },
     "execution_count": 31,
     "metadata": {},
     "output_type": "execute_result"
    }
   ],
   "source": [
    "binarised_test_values.shape[0]"
   ]
  },
  {
   "cell_type": "code",
   "execution_count": 32,
   "id": "through-child",
   "metadata": {
    "execution": {
     "iopub.execute_input": "2021-05-11T09:10:03.104407Z",
     "iopub.status.busy": "2021-05-11T09:10:03.103168Z",
     "iopub.status.idle": "2021-05-11T09:10:03.107976Z",
     "shell.execute_reply": "2021-05-11T09:10:03.108624Z"
    },
    "papermill": {
     "duration": 0.046701,
     "end_time": "2021-05-11T09:10:03.108841",
     "exception": false,
     "start_time": "2021-05-11T09:10:03.062140",
     "status": "completed"
    },
    "tags": []
   },
   "outputs": [],
   "source": [
    "y_predictions = perceptron.predict(binarised_test_values)"
   ]
  },
  {
   "cell_type": "code",
   "execution_count": 33,
   "id": "photographic-jurisdiction",
   "metadata": {
    "execution": {
     "iopub.execute_input": "2021-05-11T09:10:03.189086Z",
     "iopub.status.busy": "2021-05-11T09:10:03.188193Z",
     "iopub.status.idle": "2021-05-11T09:10:03.193694Z",
     "shell.execute_reply": "2021-05-11T09:10:03.194237Z"
    },
    "papermill": {
     "duration": 0.046951,
     "end_time": "2021-05-11T09:10:03.194430",
     "exception": false,
     "start_time": "2021-05-11T09:10:03.147479",
     "status": "completed"
    },
    "tags": []
   },
   "outputs": [
    {
     "data": {
      "text/plain": [
       "119"
      ]
     },
     "execution_count": 33,
     "metadata": {},
     "output_type": "execute_result"
    }
   ],
   "source": [
    "y_predictions.shape[0]"
   ]
  },
  {
   "cell_type": "code",
   "execution_count": 34,
   "id": "increased-yukon",
   "metadata": {
    "execution": {
     "iopub.execute_input": "2021-05-11T09:10:03.274071Z",
     "iopub.status.busy": "2021-05-11T09:10:03.273313Z",
     "iopub.status.idle": "2021-05-11T09:10:03.279519Z",
     "shell.execute_reply": "2021-05-11T09:10:03.278881Z"
    },
    "papermill": {
     "duration": 0.047299,
     "end_time": "2021-05-11T09:10:03.279692",
     "exception": false,
     "start_time": "2021-05-11T09:10:03.232393",
     "status": "completed"
    },
    "tags": []
   },
   "outputs": [
    {
     "data": {
      "text/plain": [
       "119"
      ]
     },
     "execution_count": 34,
     "metadata": {},
     "output_type": "execute_result"
    }
   ],
   "source": [
    "test_new['PhoneId'].shape[0]"
   ]
  },
  {
   "cell_type": "code",
   "execution_count": 35,
   "id": "thirty-montgomery",
   "metadata": {
    "execution": {
     "iopub.execute_input": "2021-05-11T09:10:03.368788Z",
     "iopub.status.busy": "2021-05-11T09:10:03.368106Z",
     "iopub.status.idle": "2021-05-11T09:10:03.371249Z",
     "shell.execute_reply": "2021-05-11T09:10:03.371769Z"
    },
    "papermill": {
     "duration": 0.053703,
     "end_time": "2021-05-11T09:10:03.371966",
     "exception": false,
     "start_time": "2021-05-11T09:10:03.318263",
     "status": "completed"
    },
    "tags": []
   },
   "outputs": [
    {
     "data": {
      "text/html": [
       "<div>\n",
       "<style scoped>\n",
       "    .dataframe tbody tr th:only-of-type {\n",
       "        vertical-align: middle;\n",
       "    }\n",
       "\n",
       "    .dataframe tbody tr th {\n",
       "        vertical-align: top;\n",
       "    }\n",
       "\n",
       "    .dataframe thead th {\n",
       "        text-align: right;\n",
       "    }\n",
       "</style>\n",
       "<table border=\"1\" class=\"dataframe\">\n",
       "  <thead>\n",
       "    <tr style=\"text-align: right;\">\n",
       "      <th></th>\n",
       "      <th>PhoneId</th>\n",
       "      <th>Class</th>\n",
       "    </tr>\n",
       "  </thead>\n",
       "  <tbody>\n",
       "    <tr>\n",
       "      <th>0</th>\n",
       "      <td>3</td>\n",
       "      <td>1</td>\n",
       "    </tr>\n",
       "    <tr>\n",
       "      <th>1</th>\n",
       "      <td>11</td>\n",
       "      <td>1</td>\n",
       "    </tr>\n",
       "    <tr>\n",
       "      <th>2</th>\n",
       "      <td>13</td>\n",
       "      <td>1</td>\n",
       "    </tr>\n",
       "    <tr>\n",
       "      <th>3</th>\n",
       "      <td>16</td>\n",
       "      <td>1</td>\n",
       "    </tr>\n",
       "    <tr>\n",
       "      <th>4</th>\n",
       "      <td>19</td>\n",
       "      <td>1</td>\n",
       "    </tr>\n",
       "  </tbody>\n",
       "</table>\n",
       "</div>"
      ],
      "text/plain": [
       "   PhoneId  Class\n",
       "0        3      1\n",
       "1       11      1\n",
       "2       13      1\n",
       "3       16      1\n",
       "4       19      1"
      ]
     },
     "execution_count": 35,
     "metadata": {},
     "output_type": "execute_result"
    }
   ],
   "source": [
    "submission = pd.DataFrame({'PhoneId':test_new['PhoneId'], 'Class':[1]*y_predictions})\n",
    "submission = submission[['PhoneId', 'Class']]\n",
    "submission.head()"
   ]
  },
  {
   "cell_type": "code",
   "execution_count": 36,
   "id": "satisfactory-sacrifice",
   "metadata": {
    "execution": {
     "iopub.execute_input": "2021-05-11T09:10:03.453362Z",
     "iopub.status.busy": "2021-05-11T09:10:03.452732Z",
     "iopub.status.idle": "2021-05-11T09:10:03.463727Z",
     "shell.execute_reply": "2021-05-11T09:10:03.462363Z"
    },
    "papermill": {
     "duration": 0.052871,
     "end_time": "2021-05-11T09:10:03.463895",
     "exception": false,
     "start_time": "2021-05-11T09:10:03.411024",
     "status": "completed"
    },
    "tags": []
   },
   "outputs": [],
   "source": [
    "submission.to_csv(\"submission.csv\", index=False)"
   ]
  },
  {
   "cell_type": "code",
   "execution_count": null,
   "id": "banner-memory",
   "metadata": {
    "papermill": {
     "duration": 0.03838,
     "end_time": "2021-05-11T09:10:03.541424",
     "exception": false,
     "start_time": "2021-05-11T09:10:03.503044",
     "status": "completed"
    },
    "tags": []
   },
   "outputs": [],
   "source": []
  }
 ],
 "metadata": {
  "kernelspec": {
   "display_name": "Python 3",
   "language": "python",
   "name": "python3"
  },
  "language_info": {
   "codemirror_mode": {
    "name": "ipython",
    "version": 3
   },
   "file_extension": ".py",
   "mimetype": "text/x-python",
   "name": "python",
   "nbconvert_exporter": "python",
   "pygments_lexer": "ipython3",
   "version": "3.7.10"
  },
  "papermill": {
   "default_parameters": {},
   "duration": 19.021302,
   "end_time": "2021-05-11T09:10:05.116771",
   "environment_variables": {},
   "exception": null,
   "input_path": "__notebook__.ipynb",
   "output_path": "__notebook__.ipynb",
   "parameters": {},
   "start_time": "2021-05-11T09:09:46.095469",
   "version": "2.3.3"
  }
 },
 "nbformat": 4,
 "nbformat_minor": 5
}
