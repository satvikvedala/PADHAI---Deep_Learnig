{
 "cells": [
  {
   "cell_type": "code",
   "execution_count": 1,
   "id": "sensitive-buffalo",
   "metadata": {
    "execution": {
     "iopub.execute_input": "2021-05-11T06:49:28.324139Z",
     "iopub.status.busy": "2021-05-11T06:49:28.322754Z",
     "iopub.status.idle": "2021-05-11T06:49:29.558826Z",
     "shell.execute_reply": "2021-05-11T06:49:29.557561Z"
    },
    "papermill": {
     "duration": 1.267685,
     "end_time": "2021-05-11T06:49:29.559065",
     "exception": false,
     "start_time": "2021-05-11T06:49:28.291380",
     "status": "completed"
    },
    "tags": []
   },
   "outputs": [],
   "source": [
    "import numpy as np\n",
    "import pandas as pd\n",
    "import matplotlib.pyplot as plt\n",
    "from sklearn.preprocessing import LabelEncoder,MinMaxScaler, StandardScaler\n",
    "from sklearn.model_selection import train_test_split, ParameterGrid\n",
    "from sklearn.metrics import accuracy_score, confusion_matrix, mean_squared_error, log_loss\n",
    "import operator\n",
    "import json\n",
    "from IPython import display\n",
    "import os\n",
    "import warnings\n",
    "\n",
    "np.random.seed(0)\n",
    "warnings.filterwarnings(\"ignore\")\n",
    "THRESHOLD = 4"
   ]
  },
  {
   "cell_type": "markdown",
   "id": "electronic-hungarian",
   "metadata": {
    "papermill": {
     "duration": 0.025923,
     "end_time": "2021-05-11T06:49:29.612760",
     "exception": false,
     "start_time": "2021-05-11T06:49:29.586837",
     "status": "completed"
    },
    "tags": []
   },
   "source": [
    "Task: To predict whether the user likes the mobile phone or not. <br>\n",
    "Assumption: If the average rating of mobile >= threshold, then the user likes it, otherwise not."
   ]
  },
  {
   "cell_type": "markdown",
   "id": "designed-english",
   "metadata": {
    "papermill": {
     "duration": 0.025789,
     "end_time": "2021-05-11T06:49:29.665218",
     "exception": false,
     "start_time": "2021-05-11T06:49:29.639429",
     "status": "completed"
    },
    "tags": []
   },
   "source": [
    "<b>Missing values:</b><br>\n",
    "'Also Known As'(459),'Applications'(421),'Audio Features'(437),'Bezel-less display'(266),'Browser'(449),'Build Material'(338),'Co-Processor'(451),'Display Colour'(457),'Mobile High-Definition Link(MHL)'(472),'Music'(447)\n",
    "'Email','Fingerprint Sensor Position'(174),'Games'(446),'HDMI'(454),'Heart Rate Monitor'(467),'IRIS Scanner'(467),\n",
    "'Optical Image Stabilisation'(219),'Other Facilities'(444),'Phone Book'(444),'Physical Aperture'(87),'Quick Charging'(122),'Ring Tone'(444),'Ruggedness'(430),SAR Value(315),'SIM 3'(472),'SMS'(470)', 'Screen Protection'(229),'Screen to Body Ratio (claimed by the brand)'(428),'Sensor'(242),'Software Based Aperture'(473),\n",
    "'Special Features'(459),'Standby time'(334),'Stylus'(473),'TalkTime'(259), 'USB Type-C'(374),'Video Player'(456),\n",
    "'Video Recording Features'(458),'Waterproof'(398),'Wireless Charging','USB OTG Support'(159), 'Video ,'Recording'(113),'Java'(471),'Browser'(448)\n",
    "\n",
    "<b>Very low variance:</b><br>\n",
    "'Architecture'(most entries are 64-bit),'Audio Jack','GPS','Loudspeaker','Network','Network Support','Other Sensors'(28),'SIM Size', 'VoLTE'\n",
    "\n",
    "\n",
    "<b>Multivalued:</b><br>\n",
    "'Colours','Custom UI','Model'(1),'Other Sensors','Launch Date'\n",
    "\n",
    "<b>Not important:</b><br>\n",
    "'Bluetooth', 'Settings'(75),'Wi-Fi','Wi-Fi Features'\n",
    "\n",
    "<b>Doubtful:</b><br>\n",
    "'Aspect Ratio','Autofocus','Brand','Camera Features','Fingerprint Sensor'(very few entries are missing),\n",
    "'Fingerprint Sensor Position', 'Graphics'(multivalued),'Image resolution'(multivalued),'SIM Size','Sim Slot(s)', 'User Available Storage', 'SIM 1', 'SIM 2','Shooting Modes', 'Touch Screen'(24), 'USB Connectivity'\n",
    "    \n",
    "<b>To check:</b><br>\n",
    "'Display Type','Expandable Memory','FM Radio'\n",
    "\n",
    "<b>High Correlation with other features</b><br>\n",
    "'SIM Slot(s)' high correlation with SIM1\n",
    "'Weight' has high high correlation with capacity , screen-to-body ratio\n",
    "'Height' - screen size is also there\n",
    "    \n",
    "<b>Given a mobile, we can't directly get these features</b><br>\n",
    "'Rating Count', 'Review Count'\n",
    "\n",
    "<b>Keeping:</b><br>\n",
    "'Capacity','Flash'(17),'Height'(22),'Internal Memory'(20, require cleaning),'Operating System'(25, require cleaning), 'Pixel Density'(1, clean it),'Processor'(22, clean it), 'RAM'(17, clean), 'Rating','Resolution'(cleaning), 'Screen Resolution','Screen Size', 'Thickness'(22), 'Type','User Replaceable','Weight'(cleaning),'Sim Size'(), 'Other Sensors'(28), 'Screen to Body Ratio (calculated)','Width',\n"
   ]
  },
  {
   "cell_type": "code",
   "execution_count": 2,
   "id": "artistic-movement",
   "metadata": {
    "execution": {
     "iopub.execute_input": "2021-05-11T06:49:29.728197Z",
     "iopub.status.busy": "2021-05-11T06:49:29.727131Z",
     "iopub.status.idle": "2021-05-11T06:49:29.837105Z",
     "shell.execute_reply": "2021-05-11T06:49:29.835933Z"
    },
    "papermill": {
     "duration": 0.145703,
     "end_time": "2021-05-11T06:49:29.837328",
     "exception": false,
     "start_time": "2021-05-11T06:49:29.691625",
     "status": "completed"
    },
    "tags": []
   },
   "outputs": [
    {
     "name": "stdout",
     "output_type": "stream",
     "text": [
      "Number of data points in train: 355\n",
      "Number of features in train: 99\n",
      "Number of data points in test: 119\n",
      "Number of features in test: 98\n"
     ]
    }
   ],
   "source": [
    "# read data from file\n",
    "train = pd.read_csv(\"../input/padhai-mp-neuron-like-unlike-classification/train.csv\") \n",
    "test = pd.read_csv(\"../input/padhai-mp-neuron-like-unlike-classification/test.csv\")\n",
    "\n",
    "# check the number of features and data points in train\n",
    "print(\"Number of data points in train: %d\" % train.shape[0])\n",
    "print(\"Number of features in train: %d\" % train.shape[1])\n",
    "\n",
    "# check the number of features and data points in test\n",
    "print(\"Number of data points in test: %d\" % test.shape[0])\n",
    "print(\"Number of features in test: %d\" % test.shape[1])"
   ]
  },
  {
   "cell_type": "code",
   "execution_count": 3,
   "id": "neural-welding",
   "metadata": {
    "execution": {
     "iopub.execute_input": "2021-05-11T06:49:29.904590Z",
     "iopub.status.busy": "2021-05-11T06:49:29.903518Z",
     "iopub.status.idle": "2021-05-11T06:49:29.906329Z",
     "shell.execute_reply": "2021-05-11T06:49:29.905528Z"
    },
    "papermill": {
     "duration": 0.041672,
     "end_time": "2021-05-11T06:49:29.906516",
     "exception": false,
     "start_time": "2021-05-11T06:49:29.864844",
     "status": "completed"
    },
    "tags": []
   },
   "outputs": [],
   "source": [
    "def data_clean(data):\n",
    "    \n",
    "    # Let's first remove all missing value features\n",
    "    columns_to_remove = ['Also Known As','Applications','Audio Features','Bezel-less display'\n",
    "                         'Browser','Build Material','Co-Processor','Browser'\n",
    "                         'Display Colour','Mobile High-Definition Link(MHL)',\n",
    "                         'Music', 'Email','Fingerprint Sensor Position',\n",
    "                         'Games','HDMI','Heart Rate Monitor','IRIS Scanner', \n",
    "                         'Optical Image Stabilisation','Other Facilities',\n",
    "                         'Phone Book','Physical Aperture','Quick Charging',\n",
    "                         'Ring Tone','Ruggedness','SAR Value','SIM 3','SMS',\n",
    "                         'Screen Protection','Screen to Body Ratio (claimed by the brand)',\n",
    "                         'Sensor','Software Based Aperture', 'Special Features',\n",
    "                         'Standby time','Stylus','TalkTime', 'USB Type-C',\n",
    "                         'Video Player', 'Video Recording Features','Waterproof',\n",
    "                         'Wireless Charging','USB OTG Support', 'Video Recording','Java']\n",
    "\n",
    "    columns_to_retain = list(set(data.columns)-set(columns_to_remove))\n",
    "    data = data[columns_to_retain]\n",
    "\n",
    "    #Features having very low variance \n",
    "    columns_to_remove = ['Architecture','Audio Jack','GPS','Loudspeaker','Network','Network Support','VoLTE']\n",
    "    columns_to_retain = list(set(data.columns)-set(columns_to_remove))\n",
    "    data = data[columns_to_retain]\n",
    "\n",
    "    # Multivalued:\n",
    "    columns_to_remove = ['Architecture','Launch Date','Audio Jack','GPS','Loudspeaker','Network','Network Support','VoLTE', 'Custom UI']\n",
    "    columns_to_retain = list(set(data.columns)-set(columns_to_remove))\n",
    "    data = data[columns_to_retain]\n",
    "\n",
    "    # Not much important\n",
    "    columns_to_remove = ['Bluetooth', 'Settings','Wi-Fi','Wi-Fi Features']\n",
    "    columns_to_retain = list(set(data.columns)-set(columns_to_remove))\n",
    "    data = data[columns_to_retain]\n",
    "    \n",
    "    return data"
   ]
  },
  {
   "cell_type": "markdown",
   "id": "threatened-attachment",
   "metadata": {
    "papermill": {
     "duration": 0.026576,
     "end_time": "2021-05-11T06:49:29.960080",
     "exception": false,
     "start_time": "2021-05-11T06:49:29.933504",
     "status": "completed"
    },
    "tags": []
   },
   "source": [
    "# Removing features"
   ]
  },
  {
   "cell_type": "code",
   "execution_count": 4,
   "id": "technical-posting",
   "metadata": {
    "execution": {
     "iopub.execute_input": "2021-05-11T06:49:30.019315Z",
     "iopub.status.busy": "2021-05-11T06:49:30.018510Z",
     "iopub.status.idle": "2021-05-11T06:49:30.046650Z",
     "shell.execute_reply": "2021-05-11T06:49:30.045033Z"
    },
    "papermill": {
     "duration": 0.059649,
     "end_time": "2021-05-11T06:49:30.046845",
     "exception": false,
     "start_time": "2021-05-11T06:49:29.987196",
     "status": "completed"
    },
    "tags": []
   },
   "outputs": [],
   "source": [
    "train = data_clean(train)\n",
    "test = data_clean(test)"
   ]
  },
  {
   "cell_type": "markdown",
   "id": "dietary-coating",
   "metadata": {
    "papermill": {
     "duration": 0.026733,
     "end_time": "2021-05-11T06:49:30.105148",
     "exception": false,
     "start_time": "2021-05-11T06:49:30.078415",
     "status": "completed"
    },
    "tags": []
   },
   "source": [
    "removing all those data points in which more than 15 features are missing "
   ]
  },
  {
   "cell_type": "code",
   "execution_count": 5,
   "id": "vital-tackle",
   "metadata": {
    "execution": {
     "iopub.execute_input": "2021-05-11T06:49:30.169343Z",
     "iopub.status.busy": "2021-05-11T06:49:30.168342Z",
     "iopub.status.idle": "2021-05-11T06:49:30.192593Z",
     "shell.execute_reply": "2021-05-11T06:49:30.191938Z"
    },
    "papermill": {
     "duration": 0.060321,
     "end_time": "2021-05-11T06:49:30.192772",
     "exception": false,
     "start_time": "2021-05-11T06:49:30.132451",
     "status": "completed"
    },
    "tags": []
   },
   "outputs": [],
   "source": [
    "train = train[(train.isnull().sum(axis=1) <= 15)]\n",
    "# You shouldn't remove data points from test set\n",
    "#test = test[(test.isnull().sum(axis=1) <= 15)]"
   ]
  },
  {
   "cell_type": "code",
   "execution_count": 6,
   "id": "appointed-crack",
   "metadata": {
    "execution": {
     "iopub.execute_input": "2021-05-11T06:49:30.256116Z",
     "iopub.status.busy": "2021-05-11T06:49:30.254940Z",
     "iopub.status.idle": "2021-05-11T06:49:30.258827Z",
     "shell.execute_reply": "2021-05-11T06:49:30.259379Z"
    },
    "papermill": {
     "duration": 0.039162,
     "end_time": "2021-05-11T06:49:30.259602",
     "exception": false,
     "start_time": "2021-05-11T06:49:30.220440",
     "status": "completed"
    },
    "tags": []
   },
   "outputs": [
    {
     "name": "stdout",
     "output_type": "stream",
     "text": [
      "Number of data points in train: 341\n",
      "Number of features in train: 47\n",
      "Number of data points in test: 119\n",
      "Number of features in test: 46\n"
     ]
    }
   ],
   "source": [
    "# check the number of features and data points in train\n",
    "print(\"Number of data points in train: %d\" % train.shape[0])\n",
    "print(\"Number of features in train: %d\" % train.shape[1])\n",
    "\n",
    "# check the number of features and data points in test\n",
    "print(\"Number of data points in test: %d\" % test.shape[0])\n",
    "print(\"Number of features in test: %d\" % test.shape[1])"
   ]
  },
  {
   "cell_type": "markdown",
   "id": "inappropriate-spray",
   "metadata": {
    "papermill": {
     "duration": 0.027805,
     "end_time": "2021-05-11T06:49:30.315067",
     "exception": false,
     "start_time": "2021-05-11T06:49:30.287262",
     "status": "completed"
    },
    "tags": []
   },
   "source": [
    "# Filling Missing values"
   ]
  },
  {
   "cell_type": "code",
   "execution_count": 7,
   "id": "russian-discharge",
   "metadata": {
    "execution": {
     "iopub.execute_input": "2021-05-11T06:49:30.387733Z",
     "iopub.status.busy": "2021-05-11T06:49:30.386563Z",
     "iopub.status.idle": "2021-05-11T06:49:30.390240Z",
     "shell.execute_reply": "2021-05-11T06:49:30.390718Z"
    },
    "papermill": {
     "duration": 0.048137,
     "end_time": "2021-05-11T06:49:30.390999",
     "exception": false,
     "start_time": "2021-05-11T06:49:30.342862",
     "status": "completed"
    },
    "tags": []
   },
   "outputs": [],
   "source": [
    "def for_integer(test):\n",
    "    try:\n",
    "        test = test.strip()\n",
    "        return int(test.split(' ')[0])\n",
    "    except IOError:\n",
    "           pass\n",
    "    except ValueError:\n",
    "        pass\n",
    "    except:\n",
    "        pass\n",
    "\n",
    "def for_string(test):\n",
    "    try:\n",
    "        test = test.strip()\n",
    "        return (test.split(' ')[0])\n",
    "    except IOError:\n",
    "        pass\n",
    "    except ValueError:\n",
    "        pass\n",
    "    except:\n",
    "        pass\n",
    "\n",
    "def for_float(test):\n",
    "    try:\n",
    "        test = test.strip()\n",
    "        return float(test.split(' ')[0])\n",
    "    except IOError:\n",
    "        pass\n",
    "    except ValueError:\n",
    "        pass\n",
    "    except:\n",
    "        pass\n",
    "def find_freq(test):\n",
    "    try:\n",
    "        test = test.strip()\n",
    "        test = test.split(' ')\n",
    "        if test[2][0] == '(':\n",
    "            return float(test[2][1:])\n",
    "        return float(test[2])\n",
    "    except IOError:\n",
    "        pass\n",
    "    except ValueError:\n",
    "        pass\n",
    "    except:\n",
    "        pass\n",
    "\n",
    "    \n",
    "def for_Internal_Memory(test):\n",
    "    try:\n",
    "        test = test.strip()\n",
    "        test = test.split(' ')\n",
    "        if test[1] == 'GB':\n",
    "            return int(test[0])\n",
    "        if test[1] == 'MB':\n",
    "#             print(\"here\")\n",
    "            return (int(test[0]) * 0.001)\n",
    "    except IOError:\n",
    "           pass\n",
    "    except ValueError:\n",
    "        pass\n",
    "    except:\n",
    "        pass\n",
    "    \n",
    "def find_freq(test):\n",
    "    try:\n",
    "        test = test.strip()\n",
    "        test = test.split(' ')\n",
    "        if test[2][0] == '(':\n",
    "            return float(test[2][1:])\n",
    "        return float(test[2])\n",
    "    except IOError:\n",
    "        pass\n",
    "    except ValueError:\n",
    "        pass\n",
    "    except:\n",
    "        pass\n"
   ]
  },
  {
   "cell_type": "code",
   "execution_count": 8,
   "id": "dated-taste",
   "metadata": {
    "execution": {
     "iopub.execute_input": "2021-05-11T06:49:30.452119Z",
     "iopub.status.busy": "2021-05-11T06:49:30.451351Z",
     "iopub.status.idle": "2021-05-11T06:49:30.473418Z",
     "shell.execute_reply": "2021-05-11T06:49:30.473972Z"
    },
    "papermill": {
     "duration": 0.054281,
     "end_time": "2021-05-11T06:49:30.474202",
     "exception": false,
     "start_time": "2021-05-11T06:49:30.419921",
     "status": "completed"
    },
    "tags": []
   },
   "outputs": [],
   "source": [
    "def data_clean_2(x):\n",
    "    data = x.copy()\n",
    "    \n",
    "    data['Capacity'] = data['Capacity'].apply(for_integer)\n",
    "\n",
    "    data['Height'] = data['Height'].apply(for_float)\n",
    "    data['Height'] = data['Height'].fillna(data['Height'].mean())\n",
    "\n",
    "    data['Internal Memory'] = data['Internal Memory'].apply(for_Internal_Memory)\n",
    "\n",
    "    data['Pixel Density'] = data['Pixel Density'].apply(for_integer)\n",
    "\n",
    "    data['Internal Memory'] = data['Internal Memory'].fillna(data['Internal Memory'].median())\n",
    "    data['Internal Memory'] = data['Internal Memory'].astype(int)\n",
    "\n",
    "    data['RAM'] = data['RAM'].apply(for_integer)\n",
    "    data['RAM'] = data['RAM'].fillna(data['RAM'].median())\n",
    "    data['RAM'] = data['RAM'].astype(int)\n",
    "\n",
    "    data['Resolution'] = data['Resolution'].apply(for_integer)\n",
    "    data['Resolution'] = data['Resolution'].fillna(data['Resolution'].median())\n",
    "    data['Resolution'] = data['Resolution'].astype(int)\n",
    "\n",
    "    data['Screen Size'] = data['Screen Size'].apply(for_float)\n",
    "\n",
    "    data['Thickness'] = data['Thickness'].apply(for_float)\n",
    "    data['Thickness'] = data['Thickness'].fillna(data['Thickness'].mean())\n",
    "    data['Thickness'] = data['Thickness'].round(2)\n",
    "\n",
    "    data['Type'] = data['Type'].fillna('Li-Polymer')\n",
    "\n",
    "    data['Screen to Body Ratio (calculated)'] = data['Screen to Body Ratio (calculated)'].apply(for_float)\n",
    "    data['Screen to Body Ratio (calculated)'] = data['Screen to Body Ratio (calculated)'].fillna(data['Screen to Body Ratio (calculated)'].mean())\n",
    "    data['Screen to Body Ratio (calculated)'] = data['Screen to Body Ratio (calculated)'].round(2)\n",
    "\n",
    "    data['Width'] = data['Width'].apply(for_float)\n",
    "    data['Width'] = data['Width'].fillna(data['Width'].mean())\n",
    "    data['Width'] = data['Width'].round(2)\n",
    "\n",
    "    data['Flash'][data['Flash'].isna() == True] = \"Other\"\n",
    "\n",
    "    data['User Replaceable'][data['User Replaceable'].isna() == True] = \"Other\"\n",
    "\n",
    "    data['Num_cores'] = data['Processor'].apply(for_string)\n",
    "    data['Num_cores'][data['Num_cores'].isna() == True] = \"Other\"\n",
    "\n",
    "\n",
    "    data['Processor_frequency'] = data['Processor'].apply(find_freq)\n",
    "    #because there is one entry with 208MHz values, to convert it to GHz\n",
    "    data['Processor_frequency'][data['Processor_frequency'] > 200] = 0.208\n",
    "    data['Processor_frequency'] = data['Processor_frequency'].fillna(data['Processor_frequency'].mean())\n",
    "    data['Processor_frequency'] = data['Processor_frequency'].round(2)\n",
    "\n",
    "    data['Camera Features'][data['Camera Features'].isna() == True] = \"Other\"\n",
    "\n",
    "    #simplifyig Operating System to os_name for simplicity\n",
    "    data['os_name'] = data['Operating System'].apply(for_string)\n",
    "    data['os_name'][data['os_name'].isna() == True] = \"Other\"\n",
    "\n",
    "    data['Sim1'] = data['SIM 1'].apply(for_string)\n",
    "\n",
    "    data['SIM Size'][data['SIM Size'].isna() == True] = \"Other\"\n",
    "\n",
    "    data['Image Resolution'][data['Image Resolution'].isna() == True] = \"Other\"\n",
    "\n",
    "    data['Fingerprint Sensor'][data['Fingerprint Sensor'].isna() == True] = \"Other\"\n",
    "\n",
    "    data['Expandable Memory'][data['Expandable Memory'].isna() == True] = \"No\"\n",
    "\n",
    "    data['Weight'] = data['Weight'].apply(for_integer)\n",
    "    data['Weight'] = data['Weight'].fillna(data['Weight'].mean())\n",
    "    data['Weight'] = data['Weight'].astype(int)\n",
    "\n",
    "    data['SIM 2'] = data['SIM 2'].apply(for_string)\n",
    "    data['SIM 2'][data['SIM 2'].isna() == True] = \"Other\"\n",
    "    \n",
    "    return data"
   ]
  },
  {
   "cell_type": "code",
   "execution_count": 9,
   "id": "moved-cocktail",
   "metadata": {
    "execution": {
     "iopub.execute_input": "2021-05-11T06:49:30.534532Z",
     "iopub.status.busy": "2021-05-11T06:49:30.533816Z",
     "iopub.status.idle": "2021-05-11T06:49:30.663874Z",
     "shell.execute_reply": "2021-05-11T06:49:30.662981Z"
    },
    "papermill": {
     "duration": 0.161652,
     "end_time": "2021-05-11T06:49:30.664073",
     "exception": false,
     "start_time": "2021-05-11T06:49:30.502421",
     "status": "completed"
    },
    "tags": []
   },
   "outputs": [
    {
     "name": "stdout",
     "output_type": "stream",
     "text": [
      "Number of data points in train: 341\n",
      "Number of features in train: 51\n",
      "Number of data points in test: 119\n",
      "Number of features in test: 50\n"
     ]
    }
   ],
   "source": [
    "train = data_clean_2(train)\n",
    "test = data_clean_2(test)\n",
    "\n",
    "# check the number of features and data points in train\n",
    "print(\"Number of data points in train: %d\" % train.shape[0])\n",
    "print(\"Number of features in train: %d\" % train.shape[1])\n",
    "\n",
    "# check the number of features and data points in test\n",
    "print(\"Number of data points in test: %d\" % test.shape[0])\n",
    "print(\"Number of features in test: %d\" % test.shape[1])"
   ]
  },
  {
   "cell_type": "markdown",
   "id": "furnished-thursday",
   "metadata": {
    "papermill": {
     "duration": 0.028415,
     "end_time": "2021-05-11T06:49:30.721078",
     "exception": false,
     "start_time": "2021-05-11T06:49:30.692663",
     "status": "completed"
    },
    "tags": []
   },
   "source": [
    "Not very important feature"
   ]
  },
  {
   "cell_type": "code",
   "execution_count": 10,
   "id": "involved-american",
   "metadata": {
    "execution": {
     "iopub.execute_input": "2021-05-11T06:49:30.789807Z",
     "iopub.status.busy": "2021-05-11T06:49:30.789043Z",
     "iopub.status.idle": "2021-05-11T06:49:30.791247Z",
     "shell.execute_reply": "2021-05-11T06:49:30.791747Z"
    },
    "papermill": {
     "duration": 0.042425,
     "end_time": "2021-05-11T06:49:30.792000",
     "exception": false,
     "start_time": "2021-05-11T06:49:30.749575",
     "status": "completed"
    },
    "tags": []
   },
   "outputs": [],
   "source": [
    "def data_clean_3(x):\n",
    "    \n",
    "    data = x.copy()\n",
    "\n",
    "    columns_to_remove = ['User Available Storage','SIM Size','Chipset','Processor','Autofocus','Aspect Ratio','Touch Screen',\n",
    "                        'Bezel-less display','Operating System','SIM 1','USB Connectivity','Other Sensors','Graphics','FM Radio',\n",
    "                        'NFC','Shooting Modes','Browser','Display Colour' ]\n",
    "\n",
    "    columns_to_retain = list(set(data.columns)-set(columns_to_remove))\n",
    "    data = data[columns_to_retain]\n",
    "\n",
    "\n",
    "    columns_to_remove = [ 'Screen Resolution','User Replaceable','Camera Features',\n",
    "                        'Thickness', 'Display Type']\n",
    "\n",
    "    columns_to_retain = list(set(data.columns)-set(columns_to_remove))\n",
    "    data = data[columns_to_retain]\n",
    "\n",
    "\n",
    "    columns_to_remove = ['Fingerprint Sensor', 'Flash', 'Rating Count', 'Review Count','Image Resolution','Type','Expandable Memory',\\\n",
    "                        'Colours','Width','Model']\n",
    "    columns_to_retain = list(set(data.columns)-set(columns_to_remove))\n",
    "    data = data[columns_to_retain]\n",
    "\n",
    "    return data"
   ]
  },
  {
   "cell_type": "code",
   "execution_count": 11,
   "id": "democratic-mileage",
   "metadata": {
    "execution": {
     "iopub.execute_input": "2021-05-11T06:49:30.855082Z",
     "iopub.status.busy": "2021-05-11T06:49:30.854313Z",
     "iopub.status.idle": "2021-05-11T06:49:30.871185Z",
     "shell.execute_reply": "2021-05-11T06:49:30.872353Z"
    },
    "papermill": {
     "duration": 0.051548,
     "end_time": "2021-05-11T06:49:30.872739",
     "exception": false,
     "start_time": "2021-05-11T06:49:30.821191",
     "status": "completed"
    },
    "tags": []
   },
   "outputs": [
    {
     "name": "stdout",
     "output_type": "stream",
     "text": [
      "Number of data points in train: 341\n",
      "Number of features in train: 18\n",
      "Number of data points in test: 119\n",
      "Number of features in test: 17\n"
     ]
    }
   ],
   "source": [
    "train = data_clean_3(train)\n",
    "test = data_clean_3(test)\n",
    "\n",
    "# check the number of features and data points in train\n",
    "print(\"Number of data points in train: %d\" % train.shape[0])\n",
    "print(\"Number of features in train: %d\" % train.shape[1])\n",
    "\n",
    "# check the number of features and data points in test\n",
    "print(\"Number of data points in test: %d\" % test.shape[0])\n",
    "print(\"Number of features in test: %d\" % test.shape[1])"
   ]
  },
  {
   "cell_type": "code",
   "execution_count": 12,
   "id": "copyrighted-simon",
   "metadata": {
    "execution": {
     "iopub.execute_input": "2021-05-11T06:49:30.936290Z",
     "iopub.status.busy": "2021-05-11T06:49:30.935523Z",
     "iopub.status.idle": "2021-05-11T06:49:30.979969Z",
     "shell.execute_reply": "2021-05-11T06:49:30.979160Z"
    },
    "papermill": {
     "duration": 0.076882,
     "end_time": "2021-05-11T06:49:30.980140",
     "exception": false,
     "start_time": "2021-05-11T06:49:30.903258",
     "status": "completed"
    },
    "tags": []
   },
   "outputs": [
    {
     "name": "stdout",
     "output_type": "stream",
     "text": [
      "(460, 17)\n",
      "Index(['PhoneId', 'Screen Size', 'Resolution', 'Internal Memory',\n",
      "       'Processor_frequency', 'Num_cores', 'SIM Slot(s)', 'Pixel Density',\n",
      "       'Brand', 'Capacity', 'SIM 2', 'Sim1',\n",
      "       'Screen to Body Ratio (calculated)', 'Weight', 'os_name', 'Height',\n",
      "       'RAM'],\n",
      "      dtype='object')\n",
      "(460, 87)\n",
      "Index(['PhoneId', 'Screen Size', 'Resolution', 'Internal Memory',\n",
      "       'Processor_frequency', 'Pixel Density', 'Capacity',\n",
      "       'Screen to Body Ratio (calculated)', 'Weight', 'Height', 'RAM',\n",
      "       'Num_cores_312', 'Num_cores_Deca', 'Num_cores_Dual', 'Num_cores_Hexa',\n",
      "       'Num_cores_Octa', 'Num_cores_Other', 'Num_cores_Quad',\n",
      "       'Num_cores_Tru-Octa', 'SIM Slot(s)_Dual SIM, GSM+CDMA',\n",
      "       'SIM Slot(s)_Dual SIM, GSM+GSM',\n",
      "       'SIM Slot(s)_Dual SIM, GSM+GSM, Dual VoLTE',\n",
      "       'SIM Slot(s)_Single SIM, GSM', 'Brand_10.or', 'Brand_Apple',\n",
      "       'Brand_Asus', 'Brand_Billion', 'Brand_Blackberry', 'Brand_Comio',\n",
      "       'Brand_Coolpad', 'Brand_Do', 'Brand_Gionee', 'Brand_Google',\n",
      "       'Brand_HTC', 'Brand_Honor', 'Brand_Huawei', 'Brand_InFocus',\n",
      "       'Brand_Infinix', 'Brand_Intex', 'Brand_Itel', 'Brand_Jivi',\n",
      "       'Brand_Karbonn', 'Brand_LG', 'Brand_Lava', 'Brand_LeEco',\n",
      "       'Brand_Lenovo', 'Brand_Lephone', 'Brand_Lyf', 'Brand_Meizu',\n",
      "       'Brand_Micromax', 'Brand_Mobiistar', 'Brand_Moto', 'Brand_Motorola',\n",
      "       'Brand_Nokia', 'Brand_Nubia', 'Brand_OPPO', 'Brand_OnePlus',\n",
      "       'Brand_Oppo', 'Brand_Panasonic', 'Brand_Razer', 'Brand_Realme',\n",
      "       'Brand_Reliance', 'Brand_Samsung', 'Brand_Sony', 'Brand_Spice',\n",
      "       'Brand_Tecno', 'Brand_Ulefone', 'Brand_VOTO', 'Brand_Vivo',\n",
      "       'Brand_Xiaomi', 'Brand_Xiaomi Poco', 'Brand_Yu', 'Brand_iVooMi',\n",
      "       'SIM 2_2G', 'SIM 2_3G', 'SIM 2_4G', 'SIM 2_Other', 'Sim1_2G', 'Sim1_3G',\n",
      "       'Sim1_4G', 'os_name_Android', 'os_name_Blackberry', 'os_name_KAI',\n",
      "       'os_name_Nokia', 'os_name_Other', 'os_name_Tizen', 'os_name_iOS'],\n",
      "      dtype='object')\n"
     ]
    }
   ],
   "source": [
    "# one hot encoding\n",
    "\n",
    "train_ids = train['PhoneId']\n",
    "test_ids = test['PhoneId']\n",
    "\n",
    "cols = list(test.columns)\n",
    "cols.remove('PhoneId')\n",
    "cols.insert(0, 'PhoneId')\n",
    "\n",
    "combined = pd.concat([train.drop('Rating', axis=1)[cols], test[cols]])\n",
    "print(combined.shape)\n",
    "print(combined.columns)\n",
    "\n",
    "combined = pd.get_dummies(combined)\n",
    "print(combined.shape)\n",
    "print(combined.columns)\n",
    "\n",
    "train_new = combined[combined['PhoneId'].isin(train_ids)]\n",
    "test_new = combined[combined['PhoneId'].isin(test_ids)]"
   ]
  },
  {
   "cell_type": "code",
   "execution_count": 13,
   "id": "urban-dressing",
   "metadata": {
    "execution": {
     "iopub.execute_input": "2021-05-11T06:49:31.051713Z",
     "iopub.status.busy": "2021-05-11T06:49:31.050962Z",
     "iopub.status.idle": "2021-05-11T06:49:31.064508Z",
     "shell.execute_reply": "2021-05-11T06:49:31.065094Z"
    },
    "papermill": {
     "duration": 0.054551,
     "end_time": "2021-05-11T06:49:31.065311",
     "exception": false,
     "start_time": "2021-05-11T06:49:31.010760",
     "status": "completed"
    },
    "tags": []
   },
   "outputs": [],
   "source": [
    "train_new = train_new.merge(train[['PhoneId', 'Rating']], on='PhoneId')"
   ]
  },
  {
   "cell_type": "code",
   "execution_count": 14,
   "id": "sunrise-football",
   "metadata": {
    "execution": {
     "iopub.execute_input": "2021-05-11T06:49:31.129492Z",
     "iopub.status.busy": "2021-05-11T06:49:31.128367Z",
     "iopub.status.idle": "2021-05-11T06:49:31.137035Z",
     "shell.execute_reply": "2021-05-11T06:49:31.136417Z"
    },
    "papermill": {
     "duration": 0.042081,
     "end_time": "2021-05-11T06:49:31.137222",
     "exception": false,
     "start_time": "2021-05-11T06:49:31.095141",
     "status": "completed"
    },
    "tags": []
   },
   "outputs": [
    {
     "name": "stdout",
     "output_type": "stream",
     "text": [
      "Number of data points in train: 341\n",
      "Number of features in train: 88\n",
      "Number of data points in test: 119\n",
      "Number of features in test: 87\n"
     ]
    }
   ],
   "source": [
    "# check the number of features and data points in train\n",
    "print(\"Number of data points in train: %d\" % train_new.shape[0])\n",
    "print(\"Number of features in train: %d\" % train_new.shape[1])\n",
    "\n",
    "# check the number of features and data points in test\n",
    "print(\"Number of data points in test: %d\" % test_new.shape[0])\n",
    "print(\"Number of features in test: %d\" % test_new.shape[1])"
   ]
  },
  {
   "cell_type": "code",
   "execution_count": 15,
   "id": "eight-trash",
   "metadata": {
    "execution": {
     "iopub.execute_input": "2021-05-11T06:49:31.211269Z",
     "iopub.status.busy": "2021-05-11T06:49:31.210467Z",
     "iopub.status.idle": "2021-05-11T06:49:31.240558Z",
     "shell.execute_reply": "2021-05-11T06:49:31.241101Z"
    },
    "papermill": {
     "duration": 0.07323,
     "end_time": "2021-05-11T06:49:31.241313",
     "exception": false,
     "start_time": "2021-05-11T06:49:31.168083",
     "status": "completed"
    },
    "tags": []
   },
   "outputs": [
    {
     "data": {
      "text/html": [
       "<div>\n",
       "<style scoped>\n",
       "    .dataframe tbody tr th:only-of-type {\n",
       "        vertical-align: middle;\n",
       "    }\n",
       "\n",
       "    .dataframe tbody tr th {\n",
       "        vertical-align: top;\n",
       "    }\n",
       "\n",
       "    .dataframe thead th {\n",
       "        text-align: right;\n",
       "    }\n",
       "</style>\n",
       "<table border=\"1\" class=\"dataframe\">\n",
       "  <thead>\n",
       "    <tr style=\"text-align: right;\">\n",
       "      <th></th>\n",
       "      <th>PhoneId</th>\n",
       "      <th>Screen Size</th>\n",
       "      <th>Resolution</th>\n",
       "      <th>Internal Memory</th>\n",
       "      <th>Processor_frequency</th>\n",
       "      <th>Pixel Density</th>\n",
       "      <th>Capacity</th>\n",
       "      <th>Screen to Body Ratio (calculated)</th>\n",
       "      <th>Weight</th>\n",
       "      <th>Height</th>\n",
       "      <th>...</th>\n",
       "      <th>Sim1_3G</th>\n",
       "      <th>Sim1_4G</th>\n",
       "      <th>os_name_Android</th>\n",
       "      <th>os_name_Blackberry</th>\n",
       "      <th>os_name_KAI</th>\n",
       "      <th>os_name_Nokia</th>\n",
       "      <th>os_name_Other</th>\n",
       "      <th>os_name_Tizen</th>\n",
       "      <th>os_name_iOS</th>\n",
       "      <th>Rating</th>\n",
       "    </tr>\n",
       "  </thead>\n",
       "  <tbody>\n",
       "    <tr>\n",
       "      <th>0</th>\n",
       "      <td>0</td>\n",
       "      <td>6.26</td>\n",
       "      <td>20</td>\n",
       "      <td>64</td>\n",
       "      <td>1.8</td>\n",
       "      <td>403</td>\n",
       "      <td>4000</td>\n",
       "      <td>80.68</td>\n",
       "      <td>182</td>\n",
       "      <td>157.9</td>\n",
       "      <td>...</td>\n",
       "      <td>0</td>\n",
       "      <td>1</td>\n",
       "      <td>1</td>\n",
       "      <td>0</td>\n",
       "      <td>0</td>\n",
       "      <td>0</td>\n",
       "      <td>0</td>\n",
       "      <td>0</td>\n",
       "      <td>0</td>\n",
       "      <td>4.5</td>\n",
       "    </tr>\n",
       "    <tr>\n",
       "      <th>1</th>\n",
       "      <td>1</td>\n",
       "      <td>6.20</td>\n",
       "      <td>8</td>\n",
       "      <td>32</td>\n",
       "      <td>1.8</td>\n",
       "      <td>271</td>\n",
       "      <td>4230</td>\n",
       "      <td>80.85</td>\n",
       "      <td>168</td>\n",
       "      <td>156.2</td>\n",
       "      <td>...</td>\n",
       "      <td>0</td>\n",
       "      <td>1</td>\n",
       "      <td>1</td>\n",
       "      <td>0</td>\n",
       "      <td>0</td>\n",
       "      <td>0</td>\n",
       "      <td>0</td>\n",
       "      <td>0</td>\n",
       "      <td>0</td>\n",
       "      <td>4.5</td>\n",
       "    </tr>\n",
       "    <tr>\n",
       "      <th>2</th>\n",
       "      <td>2</td>\n",
       "      <td>6.30</td>\n",
       "      <td>25</td>\n",
       "      <td>32</td>\n",
       "      <td>2.1</td>\n",
       "      <td>409</td>\n",
       "      <td>3500</td>\n",
       "      <td>83.68</td>\n",
       "      <td>168</td>\n",
       "      <td>157.0</td>\n",
       "      <td>...</td>\n",
       "      <td>0</td>\n",
       "      <td>1</td>\n",
       "      <td>1</td>\n",
       "      <td>0</td>\n",
       "      <td>0</td>\n",
       "      <td>0</td>\n",
       "      <td>0</td>\n",
       "      <td>0</td>\n",
       "      <td>0</td>\n",
       "      <td>4.4</td>\n",
       "    </tr>\n",
       "    <tr>\n",
       "      <th>3</th>\n",
       "      <td>4</td>\n",
       "      <td>6.00</td>\n",
       "      <td>24</td>\n",
       "      <td>64</td>\n",
       "      <td>2.2</td>\n",
       "      <td>411</td>\n",
       "      <td>3300</td>\n",
       "      <td>74.78</td>\n",
       "      <td>169</td>\n",
       "      <td>159.8</td>\n",
       "      <td>...</td>\n",
       "      <td>0</td>\n",
       "      <td>1</td>\n",
       "      <td>1</td>\n",
       "      <td>0</td>\n",
       "      <td>0</td>\n",
       "      <td>0</td>\n",
       "      <td>0</td>\n",
       "      <td>0</td>\n",
       "      <td>0</td>\n",
       "      <td>4.3</td>\n",
       "    </tr>\n",
       "    <tr>\n",
       "      <th>4</th>\n",
       "      <td>5</td>\n",
       "      <td>6.50</td>\n",
       "      <td>16</td>\n",
       "      <td>64</td>\n",
       "      <td>2.2</td>\n",
       "      <td>396</td>\n",
       "      <td>3750</td>\n",
       "      <td>84.23</td>\n",
       "      <td>175</td>\n",
       "      <td>160.4</td>\n",
       "      <td>...</td>\n",
       "      <td>0</td>\n",
       "      <td>1</td>\n",
       "      <td>1</td>\n",
       "      <td>0</td>\n",
       "      <td>0</td>\n",
       "      <td>0</td>\n",
       "      <td>0</td>\n",
       "      <td>0</td>\n",
       "      <td>0</td>\n",
       "      <td>4.4</td>\n",
       "    </tr>\n",
       "  </tbody>\n",
       "</table>\n",
       "<p>5 rows × 88 columns</p>\n",
       "</div>"
      ],
      "text/plain": [
       "   PhoneId  Screen Size  Resolution  Internal Memory  Processor_frequency  \\\n",
       "0        0         6.26          20               64                  1.8   \n",
       "1        1         6.20           8               32                  1.8   \n",
       "2        2         6.30          25               32                  2.1   \n",
       "3        4         6.00          24               64                  2.2   \n",
       "4        5         6.50          16               64                  2.2   \n",
       "\n",
       "   Pixel Density  Capacity  Screen to Body Ratio (calculated)  Weight  Height  \\\n",
       "0            403      4000                              80.68     182   157.9   \n",
       "1            271      4230                              80.85     168   156.2   \n",
       "2            409      3500                              83.68     168   157.0   \n",
       "3            411      3300                              74.78     169   159.8   \n",
       "4            396      3750                              84.23     175   160.4   \n",
       "\n",
       "   ...  Sim1_3G  Sim1_4G  os_name_Android  os_name_Blackberry  os_name_KAI  \\\n",
       "0  ...        0        1                1                   0            0   \n",
       "1  ...        0        1                1                   0            0   \n",
       "2  ...        0        1                1                   0            0   \n",
       "3  ...        0        1                1                   0            0   \n",
       "4  ...        0        1                1                   0            0   \n",
       "\n",
       "   os_name_Nokia  os_name_Other  os_name_Tizen  os_name_iOS  Rating  \n",
       "0              0              0              0            0     4.5  \n",
       "1              0              0              0            0     4.5  \n",
       "2              0              0              0            0     4.4  \n",
       "3              0              0              0            0     4.3  \n",
       "4              0              0              0            0     4.4  \n",
       "\n",
       "[5 rows x 88 columns]"
      ]
     },
     "execution_count": 15,
     "metadata": {},
     "output_type": "execute_result"
    }
   ],
   "source": [
    "train_new.head()"
   ]
  },
  {
   "cell_type": "code",
   "execution_count": 16,
   "id": "dense-problem",
   "metadata": {
    "execution": {
     "iopub.execute_input": "2021-05-11T06:49:31.308205Z",
     "iopub.status.busy": "2021-05-11T06:49:31.307458Z",
     "iopub.status.idle": "2021-05-11T06:49:31.333824Z",
     "shell.execute_reply": "2021-05-11T06:49:31.334416Z"
    },
    "papermill": {
     "duration": 0.061856,
     "end_time": "2021-05-11T06:49:31.334635",
     "exception": false,
     "start_time": "2021-05-11T06:49:31.272779",
     "status": "completed"
    },
    "tags": []
   },
   "outputs": [
    {
     "data": {
      "text/html": [
       "<div>\n",
       "<style scoped>\n",
       "    .dataframe tbody tr th:only-of-type {\n",
       "        vertical-align: middle;\n",
       "    }\n",
       "\n",
       "    .dataframe tbody tr th {\n",
       "        vertical-align: top;\n",
       "    }\n",
       "\n",
       "    .dataframe thead th {\n",
       "        text-align: right;\n",
       "    }\n",
       "</style>\n",
       "<table border=\"1\" class=\"dataframe\">\n",
       "  <thead>\n",
       "    <tr style=\"text-align: right;\">\n",
       "      <th></th>\n",
       "      <th>PhoneId</th>\n",
       "      <th>Screen Size</th>\n",
       "      <th>Resolution</th>\n",
       "      <th>Internal Memory</th>\n",
       "      <th>Processor_frequency</th>\n",
       "      <th>Pixel Density</th>\n",
       "      <th>Capacity</th>\n",
       "      <th>Screen to Body Ratio (calculated)</th>\n",
       "      <th>Weight</th>\n",
       "      <th>Height</th>\n",
       "      <th>...</th>\n",
       "      <th>Sim1_2G</th>\n",
       "      <th>Sim1_3G</th>\n",
       "      <th>Sim1_4G</th>\n",
       "      <th>os_name_Android</th>\n",
       "      <th>os_name_Blackberry</th>\n",
       "      <th>os_name_KAI</th>\n",
       "      <th>os_name_Nokia</th>\n",
       "      <th>os_name_Other</th>\n",
       "      <th>os_name_Tizen</th>\n",
       "      <th>os_name_iOS</th>\n",
       "    </tr>\n",
       "  </thead>\n",
       "  <tbody>\n",
       "    <tr>\n",
       "      <th>0</th>\n",
       "      <td>3</td>\n",
       "      <td>6.20</td>\n",
       "      <td>5</td>\n",
       "      <td>16</td>\n",
       "      <td>1.8</td>\n",
       "      <td>271</td>\n",
       "      <td>4230</td>\n",
       "      <td>80.85</td>\n",
       "      <td>168</td>\n",
       "      <td>156.2</td>\n",
       "      <td>...</td>\n",
       "      <td>0</td>\n",
       "      <td>0</td>\n",
       "      <td>1</td>\n",
       "      <td>1</td>\n",
       "      <td>0</td>\n",
       "      <td>0</td>\n",
       "      <td>0</td>\n",
       "      <td>0</td>\n",
       "      <td>0</td>\n",
       "      <td>0</td>\n",
       "    </tr>\n",
       "    <tr>\n",
       "      <th>1</th>\n",
       "      <td>11</td>\n",
       "      <td>6.20</td>\n",
       "      <td>12</td>\n",
       "      <td>64</td>\n",
       "      <td>1.8</td>\n",
       "      <td>402</td>\n",
       "      <td>5000</td>\n",
       "      <td>81.60</td>\n",
       "      <td>205</td>\n",
       "      <td>156.0</td>\n",
       "      <td>...</td>\n",
       "      <td>0</td>\n",
       "      <td>0</td>\n",
       "      <td>1</td>\n",
       "      <td>1</td>\n",
       "      <td>0</td>\n",
       "      <td>0</td>\n",
       "      <td>0</td>\n",
       "      <td>0</td>\n",
       "      <td>0</td>\n",
       "      <td>0</td>\n",
       "    </tr>\n",
       "    <tr>\n",
       "      <th>2</th>\n",
       "      <td>13</td>\n",
       "      <td>6.30</td>\n",
       "      <td>25</td>\n",
       "      <td>64</td>\n",
       "      <td>2.0</td>\n",
       "      <td>409</td>\n",
       "      <td>3500</td>\n",
       "      <td>83.84</td>\n",
       "      <td>169</td>\n",
       "      <td>156.7</td>\n",
       "      <td>...</td>\n",
       "      <td>0</td>\n",
       "      <td>0</td>\n",
       "      <td>1</td>\n",
       "      <td>1</td>\n",
       "      <td>0</td>\n",
       "      <td>0</td>\n",
       "      <td>0</td>\n",
       "      <td>0</td>\n",
       "      <td>0</td>\n",
       "      <td>0</td>\n",
       "    </tr>\n",
       "    <tr>\n",
       "      <th>3</th>\n",
       "      <td>16</td>\n",
       "      <td>6.30</td>\n",
       "      <td>16</td>\n",
       "      <td>64</td>\n",
       "      <td>2.0</td>\n",
       "      <td>409</td>\n",
       "      <td>3500</td>\n",
       "      <td>83.84</td>\n",
       "      <td>169</td>\n",
       "      <td>156.7</td>\n",
       "      <td>...</td>\n",
       "      <td>0</td>\n",
       "      <td>0</td>\n",
       "      <td>1</td>\n",
       "      <td>1</td>\n",
       "      <td>0</td>\n",
       "      <td>0</td>\n",
       "      <td>0</td>\n",
       "      <td>0</td>\n",
       "      <td>0</td>\n",
       "      <td>0</td>\n",
       "    </tr>\n",
       "    <tr>\n",
       "      <th>4</th>\n",
       "      <td>19</td>\n",
       "      <td>5.99</td>\n",
       "      <td>20</td>\n",
       "      <td>64</td>\n",
       "      <td>1.8</td>\n",
       "      <td>403</td>\n",
       "      <td>4000</td>\n",
       "      <td>77.43</td>\n",
       "      <td>181</td>\n",
       "      <td>158.6</td>\n",
       "      <td>...</td>\n",
       "      <td>0</td>\n",
       "      <td>0</td>\n",
       "      <td>1</td>\n",
       "      <td>1</td>\n",
       "      <td>0</td>\n",
       "      <td>0</td>\n",
       "      <td>0</td>\n",
       "      <td>0</td>\n",
       "      <td>0</td>\n",
       "      <td>0</td>\n",
       "    </tr>\n",
       "  </tbody>\n",
       "</table>\n",
       "<p>5 rows × 87 columns</p>\n",
       "</div>"
      ],
      "text/plain": [
       "   PhoneId  Screen Size  Resolution  Internal Memory  Processor_frequency  \\\n",
       "0        3         6.20           5               16                  1.8   \n",
       "1       11         6.20          12               64                  1.8   \n",
       "2       13         6.30          25               64                  2.0   \n",
       "3       16         6.30          16               64                  2.0   \n",
       "4       19         5.99          20               64                  1.8   \n",
       "\n",
       "   Pixel Density  Capacity  Screen to Body Ratio (calculated)  Weight  Height  \\\n",
       "0            271      4230                              80.85     168   156.2   \n",
       "1            402      5000                              81.60     205   156.0   \n",
       "2            409      3500                              83.84     169   156.7   \n",
       "3            409      3500                              83.84     169   156.7   \n",
       "4            403      4000                              77.43     181   158.6   \n",
       "\n",
       "   ...  Sim1_2G  Sim1_3G  Sim1_4G  os_name_Android  os_name_Blackberry  \\\n",
       "0  ...        0        0        1                1                   0   \n",
       "1  ...        0        0        1                1                   0   \n",
       "2  ...        0        0        1                1                   0   \n",
       "3  ...        0        0        1                1                   0   \n",
       "4  ...        0        0        1                1                   0   \n",
       "\n",
       "   os_name_KAI  os_name_Nokia  os_name_Other  os_name_Tizen  os_name_iOS  \n",
       "0            0              0              0              0            0  \n",
       "1            0              0              0              0            0  \n",
       "2            0              0              0              0            0  \n",
       "3            0              0              0              0            0  \n",
       "4            0              0              0              0            0  \n",
       "\n",
       "[5 rows x 87 columns]"
      ]
     },
     "execution_count": 16,
     "metadata": {},
     "output_type": "execute_result"
    }
   ],
   "source": [
    "test_new.head()"
   ]
  },
  {
   "cell_type": "markdown",
   "id": "published-worker",
   "metadata": {
    "papermill": {
     "duration": 0.031657,
     "end_time": "2021-05-11T06:49:31.398566",
     "exception": false,
     "start_time": "2021-05-11T06:49:31.366909",
     "status": "completed"
    },
    "tags": []
   },
   "source": [
    "## Dummy Solution"
   ]
  },
  {
   "cell_type": "code",
   "execution_count": 17,
   "id": "natural-amber",
   "metadata": {
    "execution": {
     "iopub.execute_input": "2021-05-11T06:49:31.467123Z",
     "iopub.status.busy": "2021-05-11T06:49:31.466370Z",
     "iopub.status.idle": "2021-05-11T06:49:31.474413Z",
     "shell.execute_reply": "2021-05-11T06:49:31.474986Z"
    },
    "papermill": {
     "duration": 0.044212,
     "end_time": "2021-05-11T06:49:31.475233",
     "exception": false,
     "start_time": "2021-05-11T06:49:31.431021",
     "status": "completed"
    },
    "tags": []
   },
   "outputs": [],
   "source": [
    "train_data = train_new.drop(['PhoneId','Rating'],axis = 1)\n",
    "Y_train_data = train_new['Rating']"
   ]
  },
  {
   "cell_type": "code",
   "execution_count": 18,
   "id": "secondary-check",
   "metadata": {
    "execution": {
     "iopub.execute_input": "2021-05-11T06:49:31.543439Z",
     "iopub.status.busy": "2021-05-11T06:49:31.542698Z",
     "iopub.status.idle": "2021-05-11T06:49:31.571378Z",
     "shell.execute_reply": "2021-05-11T06:49:31.572050Z"
    },
    "papermill": {
     "duration": 0.064993,
     "end_time": "2021-05-11T06:49:31.572256",
     "exception": false,
     "start_time": "2021-05-11T06:49:31.507263",
     "status": "completed"
    },
    "tags": []
   },
   "outputs": [
    {
     "data": {
      "text/html": [
       "<div>\n",
       "<style scoped>\n",
       "    .dataframe tbody tr th:only-of-type {\n",
       "        vertical-align: middle;\n",
       "    }\n",
       "\n",
       "    .dataframe tbody tr th {\n",
       "        vertical-align: top;\n",
       "    }\n",
       "\n",
       "    .dataframe thead th {\n",
       "        text-align: right;\n",
       "    }\n",
       "</style>\n",
       "<table border=\"1\" class=\"dataframe\">\n",
       "  <thead>\n",
       "    <tr style=\"text-align: right;\">\n",
       "      <th></th>\n",
       "      <th>Screen Size</th>\n",
       "      <th>Resolution</th>\n",
       "      <th>Internal Memory</th>\n",
       "      <th>Processor_frequency</th>\n",
       "      <th>Pixel Density</th>\n",
       "      <th>Capacity</th>\n",
       "      <th>Screen to Body Ratio (calculated)</th>\n",
       "      <th>Weight</th>\n",
       "      <th>Height</th>\n",
       "      <th>RAM</th>\n",
       "      <th>...</th>\n",
       "      <th>Sim1_2G</th>\n",
       "      <th>Sim1_3G</th>\n",
       "      <th>Sim1_4G</th>\n",
       "      <th>os_name_Android</th>\n",
       "      <th>os_name_Blackberry</th>\n",
       "      <th>os_name_KAI</th>\n",
       "      <th>os_name_Nokia</th>\n",
       "      <th>os_name_Other</th>\n",
       "      <th>os_name_Tizen</th>\n",
       "      <th>os_name_iOS</th>\n",
       "    </tr>\n",
       "  </thead>\n",
       "  <tbody>\n",
       "    <tr>\n",
       "      <th>0</th>\n",
       "      <td>6.26</td>\n",
       "      <td>20</td>\n",
       "      <td>64</td>\n",
       "      <td>1.8</td>\n",
       "      <td>403</td>\n",
       "      <td>4000</td>\n",
       "      <td>80.68</td>\n",
       "      <td>182</td>\n",
       "      <td>157.9</td>\n",
       "      <td>4</td>\n",
       "      <td>...</td>\n",
       "      <td>0</td>\n",
       "      <td>0</td>\n",
       "      <td>1</td>\n",
       "      <td>1</td>\n",
       "      <td>0</td>\n",
       "      <td>0</td>\n",
       "      <td>0</td>\n",
       "      <td>0</td>\n",
       "      <td>0</td>\n",
       "      <td>0</td>\n",
       "    </tr>\n",
       "    <tr>\n",
       "      <th>1</th>\n",
       "      <td>6.20</td>\n",
       "      <td>8</td>\n",
       "      <td>32</td>\n",
       "      <td>1.8</td>\n",
       "      <td>271</td>\n",
       "      <td>4230</td>\n",
       "      <td>80.85</td>\n",
       "      <td>168</td>\n",
       "      <td>156.2</td>\n",
       "      <td>3</td>\n",
       "      <td>...</td>\n",
       "      <td>0</td>\n",
       "      <td>0</td>\n",
       "      <td>1</td>\n",
       "      <td>1</td>\n",
       "      <td>0</td>\n",
       "      <td>0</td>\n",
       "      <td>0</td>\n",
       "      <td>0</td>\n",
       "      <td>0</td>\n",
       "      <td>0</td>\n",
       "    </tr>\n",
       "    <tr>\n",
       "      <th>2</th>\n",
       "      <td>6.30</td>\n",
       "      <td>25</td>\n",
       "      <td>32</td>\n",
       "      <td>2.1</td>\n",
       "      <td>409</td>\n",
       "      <td>3500</td>\n",
       "      <td>83.68</td>\n",
       "      <td>168</td>\n",
       "      <td>157.0</td>\n",
       "      <td>3</td>\n",
       "      <td>...</td>\n",
       "      <td>0</td>\n",
       "      <td>0</td>\n",
       "      <td>1</td>\n",
       "      <td>1</td>\n",
       "      <td>0</td>\n",
       "      <td>0</td>\n",
       "      <td>0</td>\n",
       "      <td>0</td>\n",
       "      <td>0</td>\n",
       "      <td>0</td>\n",
       "    </tr>\n",
       "    <tr>\n",
       "      <th>3</th>\n",
       "      <td>6.00</td>\n",
       "      <td>24</td>\n",
       "      <td>64</td>\n",
       "      <td>2.2</td>\n",
       "      <td>411</td>\n",
       "      <td>3300</td>\n",
       "      <td>74.78</td>\n",
       "      <td>169</td>\n",
       "      <td>159.8</td>\n",
       "      <td>4</td>\n",
       "      <td>...</td>\n",
       "      <td>0</td>\n",
       "      <td>0</td>\n",
       "      <td>1</td>\n",
       "      <td>1</td>\n",
       "      <td>0</td>\n",
       "      <td>0</td>\n",
       "      <td>0</td>\n",
       "      <td>0</td>\n",
       "      <td>0</td>\n",
       "      <td>0</td>\n",
       "    </tr>\n",
       "    <tr>\n",
       "      <th>4</th>\n",
       "      <td>6.50</td>\n",
       "      <td>16</td>\n",
       "      <td>64</td>\n",
       "      <td>2.2</td>\n",
       "      <td>396</td>\n",
       "      <td>3750</td>\n",
       "      <td>84.23</td>\n",
       "      <td>175</td>\n",
       "      <td>160.4</td>\n",
       "      <td>4</td>\n",
       "      <td>...</td>\n",
       "      <td>0</td>\n",
       "      <td>0</td>\n",
       "      <td>1</td>\n",
       "      <td>1</td>\n",
       "      <td>0</td>\n",
       "      <td>0</td>\n",
       "      <td>0</td>\n",
       "      <td>0</td>\n",
       "      <td>0</td>\n",
       "      <td>0</td>\n",
       "    </tr>\n",
       "  </tbody>\n",
       "</table>\n",
       "<p>5 rows × 86 columns</p>\n",
       "</div>"
      ],
      "text/plain": [
       "   Screen Size  Resolution  Internal Memory  Processor_frequency  \\\n",
       "0         6.26          20               64                  1.8   \n",
       "1         6.20           8               32                  1.8   \n",
       "2         6.30          25               32                  2.1   \n",
       "3         6.00          24               64                  2.2   \n",
       "4         6.50          16               64                  2.2   \n",
       "\n",
       "   Pixel Density  Capacity  Screen to Body Ratio (calculated)  Weight  Height  \\\n",
       "0            403      4000                              80.68     182   157.9   \n",
       "1            271      4230                              80.85     168   156.2   \n",
       "2            409      3500                              83.68     168   157.0   \n",
       "3            411      3300                              74.78     169   159.8   \n",
       "4            396      3750                              84.23     175   160.4   \n",
       "\n",
       "   RAM  ...  Sim1_2G  Sim1_3G  Sim1_4G  os_name_Android  os_name_Blackberry  \\\n",
       "0    4  ...        0        0        1                1                   0   \n",
       "1    3  ...        0        0        1                1                   0   \n",
       "2    3  ...        0        0        1                1                   0   \n",
       "3    4  ...        0        0        1                1                   0   \n",
       "4    4  ...        0        0        1                1                   0   \n",
       "\n",
       "   os_name_KAI  os_name_Nokia  os_name_Other  os_name_Tizen  os_name_iOS  \n",
       "0            0              0              0              0            0  \n",
       "1            0              0              0              0            0  \n",
       "2            0              0              0              0            0  \n",
       "3            0              0              0              0            0  \n",
       "4            0              0              0              0            0  \n",
       "\n",
       "[5 rows x 86 columns]"
      ]
     },
     "execution_count": 18,
     "metadata": {},
     "output_type": "execute_result"
    }
   ],
   "source": [
    "train_data.head()"
   ]
  },
  {
   "cell_type": "code",
   "execution_count": 19,
   "id": "freelance-twenty",
   "metadata": {
    "execution": {
     "iopub.execute_input": "2021-05-11T06:49:31.642176Z",
     "iopub.status.busy": "2021-05-11T06:49:31.641001Z",
     "iopub.status.idle": "2021-05-11T06:49:31.649459Z",
     "shell.execute_reply": "2021-05-11T06:49:31.650010Z"
    },
    "papermill": {
     "duration": 0.045361,
     "end_time": "2021-05-11T06:49:31.650223",
     "exception": false,
     "start_time": "2021-05-11T06:49:31.604862",
     "status": "completed"
    },
    "tags": []
   },
   "outputs": [
    {
     "data": {
      "text/plain": [
       "0    4.5\n",
       "1    4.5\n",
       "2    4.4\n",
       "3    4.3\n",
       "4    4.4\n",
       "Name: Rating, dtype: float64"
      ]
     },
     "execution_count": 19,
     "metadata": {},
     "output_type": "execute_result"
    }
   ],
   "source": [
    "Y_train_data.head()"
   ]
  },
  {
   "cell_type": "code",
   "execution_count": 20,
   "id": "subjective-pension",
   "metadata": {
    "execution": {
     "iopub.execute_input": "2021-05-11T06:49:31.725005Z",
     "iopub.status.busy": "2021-05-11T06:49:31.724043Z",
     "iopub.status.idle": "2021-05-11T06:49:31.727494Z",
     "shell.execute_reply": "2021-05-11T06:49:31.726817Z"
    },
    "papermill": {
     "duration": 0.044141,
     "end_time": "2021-05-11T06:49:31.727673",
     "exception": false,
     "start_time": "2021-05-11T06:49:31.683532",
     "status": "completed"
    },
    "tags": []
   },
   "outputs": [],
   "source": [
    "test_data = test_new.drop('PhoneId',axis = 1)"
   ]
  },
  {
   "cell_type": "code",
   "execution_count": 21,
   "id": "canadian-northwest",
   "metadata": {
    "execution": {
     "iopub.execute_input": "2021-05-11T06:49:31.802395Z",
     "iopub.status.busy": "2021-05-11T06:49:31.801435Z",
     "iopub.status.idle": "2021-05-11T06:49:31.947728Z",
     "shell.execute_reply": "2021-05-11T06:49:31.947082Z"
    },
    "papermill": {
     "duration": 0.186802,
     "end_time": "2021-05-11T06:49:31.947922",
     "exception": false,
     "start_time": "2021-05-11T06:49:31.761120",
     "status": "completed"
    },
    "tags": []
   },
   "outputs": [],
   "source": [
    "binarised_train_data = train_data.apply(pd.cut,bins = 2,labels = [0,1])"
   ]
  },
  {
   "cell_type": "code",
   "execution_count": 22,
   "id": "effective-fight",
   "metadata": {
    "execution": {
     "iopub.execute_input": "2021-05-11T06:49:32.023700Z",
     "iopub.status.busy": "2021-05-11T06:49:32.022934Z",
     "iopub.status.idle": "2021-05-11T06:49:32.025495Z",
     "shell.execute_reply": "2021-05-11T06:49:32.026128Z"
    },
    "papermill": {
     "duration": 0.044976,
     "end_time": "2021-05-11T06:49:32.026353",
     "exception": false,
     "start_time": "2021-05-11T06:49:31.981377",
     "status": "completed"
    },
    "tags": []
   },
   "outputs": [],
   "source": [
    "binarised_Y_train_data = Y_train_data.map(lambda x: 1 if x>=THRESHOLD else 0)"
   ]
  },
  {
   "cell_type": "code",
   "execution_count": 23,
   "id": "frequent-anatomy",
   "metadata": {
    "execution": {
     "iopub.execute_input": "2021-05-11T06:49:32.099486Z",
     "iopub.status.busy": "2021-05-11T06:49:32.098689Z",
     "iopub.status.idle": "2021-05-11T06:49:32.241562Z",
     "shell.execute_reply": "2021-05-11T06:49:32.240939Z"
    },
    "papermill": {
     "duration": 0.180347,
     "end_time": "2021-05-11T06:49:32.241757",
     "exception": false,
     "start_time": "2021-05-11T06:49:32.061410",
     "status": "completed"
    },
    "tags": []
   },
   "outputs": [],
   "source": [
    "binarised_test_data = test_data.apply(pd.cut,bins = 2,labels = [0,1])"
   ]
  },
  {
   "cell_type": "code",
   "execution_count": 24,
   "id": "gothic-tourist",
   "metadata": {
    "execution": {
     "iopub.execute_input": "2021-05-11T06:49:32.320176Z",
     "iopub.status.busy": "2021-05-11T06:49:32.319321Z",
     "iopub.status.idle": "2021-05-11T06:49:32.321794Z",
     "shell.execute_reply": "2021-05-11T06:49:32.322321Z"
    },
    "papermill": {
     "duration": 0.046846,
     "end_time": "2021-05-11T06:49:32.322546",
     "exception": false,
     "start_time": "2021-05-11T06:49:32.275700",
     "status": "completed"
    },
    "tags": []
   },
   "outputs": [],
   "source": [
    "class MPNeuron:\n",
    "    def __init__(self):\n",
    "        self.b = None\n",
    "    def model(self,x):\n",
    "        return (np.sum(x)>=self.b)\n",
    "    def predict(self,X):\n",
    "        Y_pred = []\n",
    "        for x in X:\n",
    "            y_pred = self.model(x)\n",
    "            Y_pred.append(y_pred)\n",
    "        return np.array(Y_pred)\n",
    "    def fit(self,X,Y):\n",
    "        accuracy = {}\n",
    "        self.b = 0\n",
    "        b = 0.03\n",
    "        while b<=X.shape[1]:\n",
    "            self.b = b\n",
    "            Y_pred = self.predict(X)\n",
    "            accuracy[b] = accuracy_score(Y_pred,Y)\n",
    "            b+=0.03\n",
    "        self.b = max(accuracy,key = accuracy.get)\n",
    "        "
   ]
  },
  {
   "cell_type": "code",
   "execution_count": 25,
   "id": "bigger-player",
   "metadata": {
    "execution": {
     "iopub.execute_input": "2021-05-11T06:49:32.395420Z",
     "iopub.status.busy": "2021-05-11T06:49:32.394652Z",
     "iopub.status.idle": "2021-05-11T06:49:32.400598Z",
     "shell.execute_reply": "2021-05-11T06:49:32.399992Z"
    },
    "papermill": {
     "duration": 0.044017,
     "end_time": "2021-05-11T06:49:32.400777",
     "exception": false,
     "start_time": "2021-05-11T06:49:32.356760",
     "status": "completed"
    },
    "tags": []
   },
   "outputs": [],
   "source": [
    "mp_neuron = MPNeuron()"
   ]
  },
  {
   "cell_type": "code",
   "execution_count": 26,
   "id": "ongoing-fourth",
   "metadata": {
    "execution": {
     "iopub.execute_input": "2021-05-11T06:49:32.480101Z",
     "iopub.status.busy": "2021-05-11T06:49:32.479318Z",
     "iopub.status.idle": "2021-05-11T06:49:32.490236Z",
     "shell.execute_reply": "2021-05-11T06:49:32.489409Z"
    },
    "papermill": {
     "duration": 0.055552,
     "end_time": "2021-05-11T06:49:32.490425",
     "exception": false,
     "start_time": "2021-05-11T06:49:32.434873",
     "status": "completed"
    },
    "tags": []
   },
   "outputs": [],
   "source": [
    "X_binarised_train = binarised_train_data.values"
   ]
  },
  {
   "cell_type": "code",
   "execution_count": 27,
   "id": "ambient-march",
   "metadata": {
    "execution": {
     "iopub.execute_input": "2021-05-11T06:49:32.576198Z",
     "iopub.status.busy": "2021-05-11T06:49:32.568614Z",
     "iopub.status.idle": "2021-05-11T06:49:32.580288Z",
     "shell.execute_reply": "2021-05-11T06:49:32.579285Z"
    },
    "papermill": {
     "duration": 0.055799,
     "end_time": "2021-05-11T06:49:32.580548",
     "exception": false,
     "start_time": "2021-05-11T06:49:32.524749",
     "status": "completed"
    },
    "tags": []
   },
   "outputs": [],
   "source": [
    "test_binarised_data = binarised_test_data.values"
   ]
  },
  {
   "cell_type": "code",
   "execution_count": 28,
   "id": "simple-headset",
   "metadata": {
    "execution": {
     "iopub.execute_input": "2021-05-11T06:49:32.664492Z",
     "iopub.status.busy": "2021-05-11T06:49:32.659521Z",
     "iopub.status.idle": "2021-05-11T06:49:42.592959Z",
     "shell.execute_reply": "2021-05-11T06:49:42.592322Z"
    },
    "papermill": {
     "duration": 9.977756,
     "end_time": "2021-05-11T06:49:42.593158",
     "exception": false,
     "start_time": "2021-05-11T06:49:32.615402",
     "status": "completed"
    },
    "tags": []
   },
   "outputs": [],
   "source": [
    "mp_neuron.fit(X_binarised_train,binarised_Y_train_data)"
   ]
  },
  {
   "cell_type": "code",
   "execution_count": 29,
   "id": "boolean-power",
   "metadata": {
    "execution": {
     "iopub.execute_input": "2021-05-11T06:49:42.669355Z",
     "iopub.status.busy": "2021-05-11T06:49:42.668607Z",
     "iopub.status.idle": "2021-05-11T06:49:42.674383Z",
     "shell.execute_reply": "2021-05-11T06:49:42.674975Z"
    },
    "papermill": {
     "duration": 0.047499,
     "end_time": "2021-05-11T06:49:42.675193",
     "exception": false,
     "start_time": "2021-05-11T06:49:42.627694",
     "status": "completed"
    },
    "tags": []
   },
   "outputs": [],
   "source": [
    "Y_test_predictions = mp_neuron.predict(test_binarised_data)"
   ]
  },
  {
   "cell_type": "code",
   "execution_count": 30,
   "id": "brilliant-joining",
   "metadata": {
    "execution": {
     "iopub.execute_input": "2021-05-11T06:49:42.752353Z",
     "iopub.status.busy": "2021-05-11T06:49:42.751388Z",
     "iopub.status.idle": "2021-05-11T06:49:42.756428Z",
     "shell.execute_reply": "2021-05-11T06:49:42.755731Z"
    },
    "papermill": {
     "duration": 0.046892,
     "end_time": "2021-05-11T06:49:42.756589",
     "exception": false,
     "start_time": "2021-05-11T06:49:42.709697",
     "status": "completed"
    },
    "tags": []
   },
   "outputs": [
    {
     "data": {
      "text/plain": [
       "array([ True,  True,  True,  True,  True,  True,  True,  True,  True,\n",
       "        True,  True,  True,  True,  True,  True,  True,  True,  True,\n",
       "        True,  True,  True,  True,  True,  True,  True,  True,  True,\n",
       "        True,  True,  True,  True,  True,  True,  True,  True,  True,\n",
       "       False,  True,  True,  True,  True,  True,  True,  True,  True,\n",
       "        True,  True,  True,  True,  True,  True,  True,  True,  True,\n",
       "        True,  True,  True,  True,  True,  True,  True,  True,  True,\n",
       "       False,  True,  True,  True,  True,  True,  True,  True,  True,\n",
       "        True,  True,  True,  True,  True,  True,  True,  True,  True,\n",
       "        True,  True,  True,  True,  True,  True,  True,  True,  True,\n",
       "        True,  True,  True,  True,  True,  True,  True,  True,  True,\n",
       "        True, False,  True,  True,  True,  True,  True,  True,  True,\n",
       "        True,  True,  True,  True,  True,  True,  True,  True,  True,\n",
       "        True,  True])"
      ]
     },
     "execution_count": 30,
     "metadata": {},
     "output_type": "execute_result"
    }
   ],
   "source": [
    "Y_test_predictions"
   ]
  },
  {
   "cell_type": "code",
   "execution_count": 31,
   "id": "equipped-cambridge",
   "metadata": {
    "execution": {
     "iopub.execute_input": "2021-05-11T06:49:42.843860Z",
     "iopub.status.busy": "2021-05-11T06:49:42.842824Z",
     "iopub.status.idle": "2021-05-11T06:49:42.848672Z",
     "shell.execute_reply": "2021-05-11T06:49:42.848120Z"
    },
    "papermill": {
     "duration": 0.055846,
     "end_time": "2021-05-11T06:49:42.848832",
     "exception": false,
     "start_time": "2021-05-11T06:49:42.792986",
     "status": "completed"
    },
    "tags": []
   },
   "outputs": [
    {
     "data": {
      "text/html": [
       "<div>\n",
       "<style scoped>\n",
       "    .dataframe tbody tr th:only-of-type {\n",
       "        vertical-align: middle;\n",
       "    }\n",
       "\n",
       "    .dataframe tbody tr th {\n",
       "        vertical-align: top;\n",
       "    }\n",
       "\n",
       "    .dataframe thead th {\n",
       "        text-align: right;\n",
       "    }\n",
       "</style>\n",
       "<table border=\"1\" class=\"dataframe\">\n",
       "  <thead>\n",
       "    <tr style=\"text-align: right;\">\n",
       "      <th></th>\n",
       "      <th>PhoneId</th>\n",
       "      <th>Class</th>\n",
       "    </tr>\n",
       "  </thead>\n",
       "  <tbody>\n",
       "    <tr>\n",
       "      <th>0</th>\n",
       "      <td>3</td>\n",
       "      <td>1</td>\n",
       "    </tr>\n",
       "    <tr>\n",
       "      <th>1</th>\n",
       "      <td>11</td>\n",
       "      <td>1</td>\n",
       "    </tr>\n",
       "    <tr>\n",
       "      <th>2</th>\n",
       "      <td>13</td>\n",
       "      <td>1</td>\n",
       "    </tr>\n",
       "    <tr>\n",
       "      <th>3</th>\n",
       "      <td>16</td>\n",
       "      <td>1</td>\n",
       "    </tr>\n",
       "    <tr>\n",
       "      <th>4</th>\n",
       "      <td>19</td>\n",
       "      <td>1</td>\n",
       "    </tr>\n",
       "  </tbody>\n",
       "</table>\n",
       "</div>"
      ],
      "text/plain": [
       "   PhoneId  Class\n",
       "0        3      1\n",
       "1       11      1\n",
       "2       13      1\n",
       "3       16      1\n",
       "4       19      1"
      ]
     },
     "execution_count": 31,
     "metadata": {},
     "output_type": "execute_result"
    }
   ],
   "source": [
    "submission = pd.DataFrame({'PhoneId':test_new['PhoneId'], 'Class':[1]*Y_test_predictions})\n",
    "submission = submission[['PhoneId', 'Class']]\n",
    "submission.head()"
   ]
  },
  {
   "cell_type": "code",
   "execution_count": 32,
   "id": "expired-writer",
   "metadata": {
    "execution": {
     "iopub.execute_input": "2021-05-11T06:49:42.927844Z",
     "iopub.status.busy": "2021-05-11T06:49:42.926273Z",
     "iopub.status.idle": "2021-05-11T06:49:42.935432Z",
     "shell.execute_reply": "2021-05-11T06:49:42.934594Z"
    },
    "papermill": {
     "duration": 0.050977,
     "end_time": "2021-05-11T06:49:42.935607",
     "exception": false,
     "start_time": "2021-05-11T06:49:42.884630",
     "status": "completed"
    },
    "tags": []
   },
   "outputs": [],
   "source": [
    "submission.to_csv(\"submission.csv\", index=False)"
   ]
  },
  {
   "cell_type": "code",
   "execution_count": null,
   "id": "complimentary-entry",
   "metadata": {
    "papermill": {
     "duration": 0.036593,
     "end_time": "2021-05-11T06:49:43.008677",
     "exception": false,
     "start_time": "2021-05-11T06:49:42.972084",
     "status": "completed"
    },
    "tags": []
   },
   "outputs": [],
   "source": []
  }
 ],
 "metadata": {
  "kernelspec": {
   "display_name": "Python 3",
   "language": "python",
   "name": "python3"
  },
  "language_info": {
   "codemirror_mode": {
    "name": "ipython",
    "version": 3
   },
   "file_extension": ".py",
   "mimetype": "text/x-python",
   "name": "python",
   "nbconvert_exporter": "python",
   "pygments_lexer": "ipython3",
   "version": "3.7.10"
  },
  "papermill": {
   "default_parameters": {},
   "duration": 26.03966,
   "end_time": "2021-05-11T06:49:44.059100",
   "environment_variables": {},
   "exception": null,
   "input_path": "__notebook__.ipynb",
   "output_path": "__notebook__.ipynb",
   "parameters": {},
   "start_time": "2021-05-11T06:49:18.019440",
   "version": "2.3.3"
  }
 },
 "nbformat": 4,
 "nbformat_minor": 5
}
